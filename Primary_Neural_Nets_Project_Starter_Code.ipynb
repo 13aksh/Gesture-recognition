{
 "cells": [
  {
   "cell_type": "markdown",
   "metadata": {
    "id": "ehLW7w8IkAEZ"
   },
   "source": [
    "# Gesture Recognition\n",
    "In this group project, you are going to build a 3D Conv model that will be able to predict the 5 gestures correctly. Please import the following libraries to get started."
   ]
  },
  {
   "cell_type": "code",
   "execution_count": 1,
   "metadata": {
    "id": "q6-wmbg4kAEa"
   },
   "outputs": [],
   "source": [
    "# pip install scipy"
   ]
  },
  {
   "cell_type": "code",
   "execution_count": 2,
   "metadata": {
    "id": "B6E9Qm0hkAEb"
   },
   "outputs": [],
   "source": [
    "import numpy as np\n",
    "import os\n",
    "# from scipy.misc import imread, imresize\n",
    "from skimage.io import imread\n",
    "from skimage.transform import resize\n",
    "import datetime\n",
    "import os\n",
    "import matplotlib.pyplot as plt"
   ]
  },
  {
   "cell_type": "markdown",
   "metadata": {
    "id": "MeZL1pfNkAEb"
   },
   "source": [
    "We set the random seed so that the results don't vary drastically."
   ]
  },
  {
   "cell_type": "code",
   "execution_count": 3,
   "metadata": {
    "id": "jySzWCB0kAEb"
   },
   "outputs": [],
   "source": [
    "np.random.seed(30)\n",
    "import random as rn\n",
    "rn.seed(30)\n",
    "# from keras import backend as K\n",
    "from keras import backend as K\n",
    "import tensorflow as tf\n",
    "tf.random.set_seed(30)"
   ]
  },
  {
   "cell_type": "markdown",
   "metadata": {
    "id": "Gj-gz4kSkAEb"
   },
   "source": [
    "In this block, you read the folder names for training and validation. You also set the `batch_size` here. Note that you set the batch size in such a way that you are able to use the GPU in full capacity. You keep increasing the batch size until the machine throws an error."
   ]
  },
  {
   "cell_type": "code",
   "execution_count": 4,
   "metadata": {
    "colab": {
     "base_uri": "https://localhost:8080/"
    },
    "executionInfo": {
     "elapsed": 19,
     "status": "ok",
     "timestamp": 1624199132279,
     "user": {
      "displayName": "Akshay Jain",
      "photoUrl": "",
      "userId": "14428643283181133106"
     },
     "user_tz": -330
    },
    "id": "khdenBA1kDNh",
    "outputId": "368003a7-2085-4961-8a43-b7d3e7ce9c3d"
   },
   "outputs": [],
   "source": [
    "# from google.colab import drive\n",
    "# drive.mount('/content/drive')"
   ]
  },
  {
   "cell_type": "code",
   "execution_count": 5,
   "metadata": {
    "id": "nZY_NPEMkAEb"
   },
   "outputs": [],
   "source": [
    "# train_doc = np.random.permutation(open('/notebooks/storage/Final_data/Collated_training/train.csv').readlines())\n",
    "# val_doc = np.random.permutation(open('/notebooks/storage/Final_data/Collated_training/test.csv').readlines())\n",
    "\n",
    "train_doc = np.random.permutation(open('../Project_data/train.csv').readlines())\n",
    "val_doc = np.random.permutation(open('../Project_data/val.csv').readlines())\n",
    "batch_size = 10 #experiment with the batch size"
   ]
  },
  {
   "cell_type": "markdown",
   "metadata": {
    "id": "0kSboJjikAEb"
   },
   "source": [
    "## Generator\n",
    "This is one of the most important part of the code. The overall structure of the generator has been given. In the generator, you are going to preprocess the images as you have images of 2 different dimensions as well as create a batch of video frames. You have to experiment with `img_idx`, `y`,`z` and normalization such that you get high accuracy."
   ]
  },
  {
   "cell_type": "code",
   "execution_count": 6,
   "metadata": {
    "colab": {
     "base_uri": "https://localhost:8080/"
    },
    "executionInfo": {
     "elapsed": 17,
     "status": "ok",
     "timestamp": 1624199132279,
     "user": {
      "displayName": "Akshay Jain",
      "photoUrl": "",
      "userId": "14428643283181133106"
     },
     "user_tz": -330
    },
    "id": "ucx3bsvVkAEc",
    "outputId": "ddd2cbc3-43b1-4567-c1ec-6c0b41e1335d"
   },
   "outputs": [
    {
     "name": "stdout",
     "output_type": "stream",
     "text": [
      "['WIN_20180926_16_54_08_Pro_Right_Swipe_new;Right_Swipe_new;1\\n'\n",
      " 'WIN_20180925_18_02_58_Pro_Thumbs_Down_new;Thumbs_Down_new;3\\n'\n",
      " 'WIN_20180925_17_33_08_Pro_Left_Swipe_new;Left_Swipe_new;0\\n'\n",
      " 'WIN_20180925_17_51_17_Pro_Thumbs_Up_new;Thumbs_Up_new;4\\n'\n",
      " 'WIN_20180926_17_17_35_Pro_Left_Swipe_new;Left_Swipe_new;0\\n'\n",
      " 'WIN_20180926_17_30_47_Pro_Thumbs_Up_new;Thumbs_Up_new;4\\n'\n",
      " 'WIN_20180926_17_29_23_Pro_Stop_new;Stop_new;2\\n'\n",
      " 'WIN_20180926_17_12_26_Pro_Thumbs_Up_new;Thumbs_Up_new;4\\n'\n",
      " 'WIN_20180926_17_29_01_Pro_Stop_new;Stop_new;2\\n'\n",
      " 'WIN_20180907_16_32_11_Pro_Stop Gesture_new;Stop Gesture_new;2\\n'\n",
      " 'WIN_20180926_17_06_01_Pro_Stop_new;Stop_new;2\\n'\n",
      " 'WIN_20180907_16_52_18_Pro_Stop Gesture_new;Stop Gesture_new;2\\n'\n",
      " 'WIN_20180907_16_39_19_Pro_Left Swipe_new_Left Swipe_new;Left Swipe_new_Left Swipe_new;0\\n'\n",
      " 'WIN_20180925_17_19_16_Pro_Thumbs_Up_new;Thumbs_Up_new;4\\n'\n",
      " 'WIN_20180907_16_19_10_Pro_Left Swipe_new_Left Swipe_new;Left Swipe_new_Left Swipe_new;0\\n'\n",
      " 'WIN_20180926_16_56_46_Pro_Right_Swipe_new;Right_Swipe_new;1\\n'\n",
      " 'WIN_20180925_17_44_57_Pro_Thumbs_Down_new;Thumbs_Down_new;3\\n'\n",
      " 'WIN_20180925_17_46_39_Pro_Left_Swipe_new;Left_Swipe_new;0\\n'\n",
      " 'WIN_20180925_17_20_53_Pro_Thumbs_Up_new;Thumbs_Up_new;4\\n'\n",
      " 'WIN_20180926_16_59_12_Pro_Stop_new;Stop_new;2\\n'\n",
      " 'WIN_20180907_17_03_16_Pro_Right Swipe_new;Right Swipe_new;1\\n'\n",
      " 'WIN_20180925_17_48_48_Pro_Right_Swipe_new;Right_Swipe_new;1\\n'\n",
      " 'WIN_20180925_17_47_06_Pro_Thumbs_Down_new;Thumbs_Down_new;3\\n'\n",
      " 'WIN_20180907_15_38_24_Pro_Right Swipe_new;Right Swipe_new;1\\n'\n",
      " 'WIN_20180907_16_04_51_Pro_Left Swipe_new_Left Swipe_new;Left Swipe_new_Left Swipe_new;0\\n'\n",
      " 'WIN_20180926_17_07_02_Pro_Stop_new;Stop_new;2\\n'\n",
      " 'WIN_20180907_16_25_19_Pro_Right Swipe_new;Right Swipe_new;1\\n'\n",
      " 'WIN_20180926_17_13_29_Pro_Thumbs_Up_new;Thumbs_Up_new;4\\n'\n",
      " 'WIN_20180925_18_05_04_Pro_Thumbs_Down_new;Thumbs_Down_new;3\\n'\n",
      " 'WIN_20180926_17_19_48_Pro_Left_Swipe_new;Left_Swipe_new;0\\n'\n",
      " 'WIN_20180907_15_55_22_Pro_Stop Gesture_new;Stop Gesture_new;2\\n'\n",
      " 'WIN_20180907_16_37_03_Pro_Right Swipe_new;Right Swipe_new;1\\n'\n",
      " 'WIN_20180926_16_49_23_Pro_Thumbs_Up_new;Thumbs_Up_new;4\\n'\n",
      " 'WIN_20180907_16_42_05_Pro_Thumbs Up_new;Thumbs Up_new;4\\n'\n",
      " 'WIN_20180926_16_38_09_Pro_Thumbs_Up_new;Thumbs_Up_new;4\\n'\n",
      " 'WIN_20180925_17_57_58_Pro_Right_Swipe_new;Right_Swipe_new;1\\n'\n",
      " 'WIN_20180926_17_42_50_Pro_Thumbs_Down_new;Thumbs_Down_new;3\\n'\n",
      " 'WIN_20180926_17_18_39_Pro_Thumbs_Down_new;Thumbs_Down_new;3\\n'\n",
      " 'WIN_20180907_15_41_54_Pro_Right Swipe_new;Right Swipe_new;1\\n'\n",
      " 'WIN_20180907_15_58_38_Pro_Thumbs Down_new;Thumbs Down_new;3\\n'\n",
      " 'WIN_20180925_17_23_46_Pro_Thumbs_Up_new;Thumbs_Up_new;4\\n'\n",
      " 'WIN_20180926_17_45_23_Pro_Thumbs_Down_new;Thumbs_Down_new;3\\n'\n",
      " 'WIN_20180926_17_23_23_Pro_Right_Swipe_new;Right_Swipe_new;1\\n'\n",
      " 'WIN_20180926_17_31_23_Pro_Stop_new;Stop_new;2\\n'\n",
      " 'WIN_20180907_16_41_13_Pro_Thumbs Down_new;Thumbs Down_new;3\\n'\n",
      " 'WIN_20180926_17_22_54_Pro_Left_Swipe_new;Left_Swipe_new;0\\n'\n",
      " 'WIN_20180926_17_28_52_Pro_Right_Swipe_new;Right_Swipe_new;1\\n'\n",
      " 'WIN_20180926_17_44_30_Pro_Thumbs_Down_new;Thumbs_Down_new;3\\n'\n",
      " 'WIN_20180926_17_22_23_Pro_Stop_new;Stop_new;2\\n'\n",
      " 'WIN_20180926_17_30_24_Pro_Right_Swipe_new;Right_Swipe_new;1\\n'\n",
      " 'WIN_20180907_16_08_56_Pro_Thumbs Up_new;Thumbs Up_new;4\\n'\n",
      " 'WIN_20180926_16_50_21_Pro_Left_Swipe_new;Left_Swipe_new;0\\n'\n",
      " 'WIN_20180926_17_20_47_Pro_Thumbs_Up_new;Thumbs_Up_new;4\\n'\n",
      " 'WIN_20180907_16_17_11_Pro_Left Swipe_new_Left Swipe_new;Left Swipe_new_Left Swipe_new;0\\n'\n",
      " 'WIN_20180926_17_05_32_Pro_Stop_new;Stop_new;2\\n'\n",
      " 'WIN_20180926_18_05_07_Pro_Right_Swipe_new;Right_Swipe_new;1\\n'\n",
      " 'WIN_20180925_17_56_48_Pro_Stop_new;Stop_new;2\\n'\n",
      " 'WIN_20180926_16_59_48_Pro_Stop_new;Stop_new;2\\n'\n",
      " 'WIN_20180926_17_01_50_Pro_Stop_new;Stop_new;2\\n'\n",
      " 'WIN_20180907_16_11_36_Pro_Right Swipe_new;Right Swipe_new;1\\n'\n",
      " 'WIN_20180925_17_48_59_Pro_Stop_new;Stop_new;2\\n'\n",
      " 'WIN_20180926_17_10_46_Pro_Stop_new;Stop_new;2\\n'\n",
      " 'WIN_20180907_16_11_06_Pro_Stop Gesture_new;Stop Gesture_new;2\\n'\n",
      " 'WIN_20180926_17_00_22_Pro_Stop_new;Stop_new;2\\n'\n",
      " 'WIN_20180926_17_25_18_Pro_Stop_new;Stop_new;2\\n'\n",
      " 'WIN_20180926_16_59_03_Pro_Thumbs_Down_new;Thumbs_Down_new;3\\n'\n",
      " 'WIN_20180926_16_53_30_Pro_Stop_new;Stop_new;2\\n'\n",
      " 'WIN_20180925_17_28_04_Pro_Right_Swipe_new;Right_Swipe_new;1\\n'\n",
      " 'WIN_20180907_16_42_55_Pro_Thumbs Up_new;Thumbs Up_new;4\\n'\n",
      " 'WIN_20180925_17_57_52_Pro_Thumbs_Down_new;Thumbs_Down_new;3\\n'\n",
      " 'WIN_20180926_17_24_14_Pro_Stop_new;Stop_new;2\\n'\n",
      " 'WIN_20180926_17_01_07_Pro_Right_Swipe_new;Right_Swipe_new;1\\n'\n",
      " 'WIN_20180925_17_58_21_Pro_Right_Swipe_new;Right_Swipe_new;1\\n'\n",
      " 'WIN_20180907_16_32_17_Pro_Left Swipe_new_Left Swipe_new;Left Swipe_new_Left Swipe_new;0\\n'\n",
      " 'WIN_20180926_17_12_37_Pro_Left_Swipe_new;Left_Swipe_new;0\\n'\n",
      " 'WIN_20180907_16_13_56_Pro_Left Swipe_new_Left Swipe_new;Left Swipe_new_Left Swipe_new;0\\n'\n",
      " 'WIN_20180926_17_36_08_Pro_Thumbs_Down_new;Thumbs_Down_new;3\\n'\n",
      " 'WIN_20180907_15_55_27_Pro_Thumbs Down_new;Thumbs Down_new;3\\n'\n",
      " 'WIN_20180907_16_06_35_Pro_Thumbs Down_new;Thumbs Down_new;3\\n'\n",
      " 'WIN_20180926_17_54_45_Pro_Right_Swipe_new;Right_Swipe_new;1\\n'\n",
      " 'WIN_20180925_17_36_28_Pro_Thumbs_Down_new;Thumbs_Down_new;3\\n'\n",
      " 'WIN_20180925_17_22_32_Pro_Right_Swipe_new;Right_Swipe_new;1\\n'\n",
      " 'WIN_20180925_17_49_07_Pro_Left_Swipe_new;Left_Swipe_new;0\\n'\n",
      " 'WIN_20180907_16_22_03_Pro_Left Swipe_new_Left Swipe_new;Left Swipe_new_Left Swipe_new;0\\n'\n",
      " 'WIN_20180907_15_39_51_Pro_Stop Gesture_new;Stop Gesture_new;2\\n'\n",
      " 'WIN_20180907_16_24_14_Pro_Thumbs Up_new;Thumbs Up_new;4\\n'\n",
      " 'WIN_20180926_17_42_05_Pro_Thumbs_Down_new;Thumbs_Down_new;3\\n'\n",
      " 'WIN_20180925_17_51_23_Pro_Thumbs_Down_new;Thumbs_Down_new;3\\n'\n",
      " 'WIN_20180907_16_19_31_Pro_Right Swipe_new;Right Swipe_new;1\\n'\n",
      " 'WIN_20180907_16_22_23_Pro_Right Swipe_new;Right Swipe_new;1\\n'\n",
      " 'WIN_20180907_16_07_50_Pro_Thumbs Down_new;Thumbs Down_new;3\\n'\n",
      " 'WIN_20180926_17_27_48_Pro_Thumbs_Up_new;Thumbs_Up_new;4\\n'\n",
      " 'WIN_20180926_17_08_38_Pro_Thumbs_Down_new;Thumbs_Down_new;3\\n'\n",
      " 'WIN_20180926_17_42_43_Pro_Right_Swipe_new;Right_Swipe_new;1\\n'\n",
      " 'WIN_20180925_17_08_43_Pro_Left_Swipe_new;Left_Swipe_new;0\\n'\n",
      " 'WIN_20180907_16_18_18_Pro_Right Swipe_new;Right Swipe_new;1\\n'\n",
      " 'WIN_20180926_17_16_20_Pro_Thumbs_Down_new;Thumbs_Down_new;3\\n'\n",
      " 'WIN_20180926_16_55_17_Pro_Thumbs_Down_new;Thumbs_Down_new;3\\n'\n",
      " 'WIN_20180925_18_02_41_Pro_Right_Swipe_new;Right_Swipe_new;1\\n'\n",
      " 'WIN_20180925_18_04_13_Pro_Thumbs_Down_new;Thumbs_Down_new;3\\n'\n",
      " 'WIN_20180925_17_46_49_Pro_Left_Swipe_new;Left_Swipe_new;0\\n'\n",
      " 'WIN_20180907_15_49_56_Pro_Right Swipe_new;Right Swipe_new;1\\n'\n",
      " 'WIN_20180925_17_19_19_Pro_Right_Swipe_new;Right_Swipe_new;1\\n'\n",
      " 'WIN_20180925_17_50_59_Pro_Right_Swipe_new;Right_Swipe_new;1\\n'\n",
      " 'WIN_20180907_16_00_27_Pro_Stop Gesture_new;Stop Gesture_new;2\\n'\n",
      " 'WIN_20180926_16_48_32_Pro_Thumbs_Up_new;Thumbs_Up_new;4\\n'\n",
      " 'WIN_20180926_17_05_08_Pro_Left_Swipe_new;Left_Swipe_new;0\\n'\n",
      " 'WIN_20180907_16_43_39_Pro_Thumbs Up_new;Thumbs Up_new;4\\n'\n",
      " 'WIN_20180925_17_52_46_Pro_Right_Swipe_new;Right_Swipe_new;1\\n'\n",
      " 'WIN_20180926_16_37_46_Pro_Stop_new;Stop_new;2\\n'\n",
      " 'WIN_20180925_17_28_28_Pro_Thumbs_Up_new;Thumbs_Up_new;4\\n'\n",
      " 'WIN_20180926_17_22_53_Pro_Thumbs_Up_new;Thumbs_Up_new;4\\n'\n",
      " 'WIN_20180926_16_58_27_Pro_Right_Swipe_new;Right_Swipe_new;1\\n'\n",
      " 'WIN_20180926_16_50_32_Pro_Stop_new;Stop_new;2\\n'\n",
      " 'WIN_20180926_16_50_28_Pro_Right_Swipe_new;Right_Swipe_new;1\\n'\n",
      " 'WIN_20180926_17_44_20_Pro_Right_Swipe_new;Right_Swipe_new;1\\n'\n",
      " 'WIN_20180925_18_15_50_Pro_Thumbs_Down_new;Thumbs_Down_new;3\\n'\n",
      " 'WIN_20180907_16_29_13_Pro_Stop Gesture_new;Stop Gesture_new;2\\n'\n",
      " 'WIN_20180925_17_38_50_Pro_Stop_new;Stop_new;2\\n'\n",
      " 'WIN_20180926_17_39_25_Pro_Thumbs_Up_new;Thumbs_Up_new;4\\n'\n",
      " 'WIN_20180926_17_13_13_Pro_Right_Swipe_new;Right_Swipe_new;1\\n'\n",
      " 'WIN_20180926_17_13_44_Pro_Stop_new;Stop_new;2\\n'\n",
      " 'WIN_20180907_16_07_57_Pro_Left Swipe_new_Left Swipe_new;Left Swipe_new_Left Swipe_new;0\\n'\n",
      " 'WIN_20180926_18_05_29_Pro_Thumbs_Down_new;Thumbs_Down_new;3\\n'\n",
      " 'WIN_20180926_16_40_53_Pro_Thumbs_Down_new;Thumbs_Down_new;3\\n'\n",
      " 'WIN_20180926_18_09_50_Pro_Right_Swipe_new;Right_Swipe_new;1\\n'\n",
      " 'WIN_20180926_16_57_26_Pro_Left_Swipe_new;Left_Swipe_new;0\\n'\n",
      " 'WIN_20180907_15_40_55_Pro_Thumbs Up_new;Thumbs Up_new;4\\n'\n",
      " 'WIN_20180907_15_40_26_Pro_Thumbs Down_new;Thumbs Down_new;3\\n'\n",
      " 'WIN_20180925_18_20_19_Pro_Thumbs_Down_new;Thumbs_Down_new;3\\n'\n",
      " 'WIN_20180926_17_11_24_Pro_Right_Swipe_new;Right_Swipe_new;1\\n'\n",
      " 'WIN_20180926_17_43_30_Pro_Thumbs_Up_new;Thumbs_Up_new;4\\n'\n",
      " 'WIN_20180907_15_38_17_Pro_Left Swipe_new_Left Swipe_new;Left Swipe_new_Left Swipe_new;0\\n'\n",
      " 'WIN_20180926_17_32_42_Pro_Thumbs_Up_new;Thumbs_Up_new;4\\n'\n",
      " 'WIN_20180925_18_01_05_Pro_Right_Swipe_new;Right_Swipe_new;1\\n'\n",
      " 'WIN_20180926_17_17_23_Pro_Thumbs_Up_new;Thumbs_Up_new;4\\n'\n",
      " 'WIN_20180926_17_52_26_Pro_Stop_new;Stop_new;2\\n'\n",
      " 'WIN_20180926_17_28_47_Pro_Left_Swipe_new;Left_Swipe_new;0\\n'\n",
      " 'WIN_20180907_15_46_43_Pro_Left Swipe_new_Left Swipe_new;Left Swipe_new_Left Swipe_new;0\\n'\n",
      " 'WIN_20180907_16_04_16_Pro_Thumbs Up_new;Thumbs Up_new;4\\n'\n",
      " 'WIN_20180925_17_51_52_Pro_Right_Swipe_new;Right_Swipe_new;1\\n'\n",
      " 'WIN_20180907_16_14_53_Pro_Stop Gesture_new;Stop Gesture_new;2\\n'\n",
      " 'WIN_20180926_17_38_25_Pro_Stop_new;Stop_new;2\\n'\n",
      " 'WIN_20180926_16_54_07_Pro_Stop_new;Stop_new;2\\n'\n",
      " 'WIN_20180907_16_40_59_Pro_Left Swipe_new_Left Swipe_new;Left Swipe_new_Left Swipe_new;0\\n'\n",
      " 'WIN_20180907_15_44_32_Pro_Thumbs Down_new;Thumbs Down_new;3\\n'\n",
      " 'WIN_20180926_17_06_12_Pro_Left_Swipe_new;Left_Swipe_new;0\\n'\n",
      " 'WIN_20180925_17_54_25_Pro_Left_Swipe_new;Left_Swipe_new;0\\n'\n",
      " 'WIN_20180925_17_20_55_Pro_Right_Swipe_new;Right_Swipe_new;1\\n'\n",
      " 'WIN_20180926_16_42_06_Pro_Right_Swipe_new;Right_Swipe_new;1\\n'\n",
      " 'WIN_20180907_16_20_32_Pro_Thumbs Down_new;Thumbs Down_new;3\\n'\n",
      " 'WIN_20180926_17_32_01_Pro_Thumbs_Down_new;Thumbs_Down_new;3\\n'\n",
      " 'WIN_20180926_17_33_46_Pro_Left_Swipe_new;Left_Swipe_new;0\\n'\n",
      " 'WIN_20180926_17_11_17_Pro_Stop_new;Stop_new;2\\n'\n",
      " 'WIN_20180925_17_51_29_Pro_Stop_new;Stop_new;2\\n'\n",
      " 'WIN_20180907_15_53_00_Pro_Thumbs Down_new;Thumbs Down_new;3\\n'\n",
      " 'WIN_20180907_16_43_19_Pro_Thumbs Down_new;Thumbs Down_new;3\\n'\n",
      " 'WIN_20180907_16_33_15_Pro_Left Swipe_new_Left Swipe_new;Left Swipe_new_Left Swipe_new;0\\n'\n",
      " 'WIN_20180907_15_48_01_Pro_Stop Gesture_new;Stop Gesture_new;2\\n'\n",
      " 'WIN_20180926_17_13_32_Pro_Left_Swipe_new;Left_Swipe_new;0\\n'\n",
      " 'WIN_20180926_17_53_54_Pro_Right_Swipe_new;Right_Swipe_new;1\\n'\n",
      " 'WIN_20180926_16_44_06_Pro_Left_Swipe_new;Left_Swipe_new;0\\n'\n",
      " 'WIN_20180907_15_59_12_Pro_Stop Gesture_new;Stop Gesture_new;2\\n'\n",
      " 'WIN_20180926_16_57_51_Pro_Thumbs_Up_new;Thumbs_Up_new;4\\n'\n",
      " 'WIN_20180925_18_07_19_Pro_Thumbs_Up_new;Thumbs_Up_new;4\\n'\n",
      " 'WIN_20180907_16_22_27_Pro_Thumbs Down_new;Thumbs Down_new;3\\n'\n",
      " 'WIN_20180926_17_02_05_Pro_Thumbs_Down_new;Thumbs_Down_new;3\\n'\n",
      " 'WIN_20180926_17_27_33_Pro_Right_Swipe_new;Right_Swipe_new;1\\n'\n",
      " 'WIN_20180926_17_35_17_Pro_Stop_new;Stop_new;2\\n'\n",
      " 'WIN_20180907_16_12_16_Pro_Thumbs Down_new;Thumbs Down_new;3\\n'\n",
      " 'WIN_20180926_17_18_43_Pro_Thumbs_Up_new;Thumbs_Up_new;4\\n'\n",
      " 'WIN_20180925_18_00_08_Pro_Stop_new;Stop_new;2\\n'\n",
      " 'WIN_20180925_17_32_52_Pro_Thumbs_Up_new;Thumbs_Up_new;4\\n'\n",
      " 'WIN_20180907_16_50_16_Pro_Right Swipe_new;Right Swipe_new;1\\n'\n",
      " 'WIN_20180925_17_29_33_Pro_Stop_new;Stop_new;2\\n'\n",
      " 'WIN_20180907_16_27_36_Pro_Stop Gesture_new;Stop Gesture_new;2\\n'\n",
      " 'WIN_20180907_16_27_09_Pro_Thumbs Up_new;Thumbs Up_new;4\\n'\n",
      " 'WIN_20180926_16_50_23_Pro_Stop_new;Stop_new;2\\n'\n",
      " 'WIN_20180926_16_39_19_Pro_Stop_new;Stop_new;2\\n'\n",
      " 'WIN_20180925_18_14_35_Pro_Right_Swipe_new;Right_Swipe_new;1\\n'\n",
      " 'WIN_20180926_17_02_35_Pro_Right_Swipe_new;Right_Swipe_new;1\\n'\n",
      " 'WIN_20180926_16_59_44_Pro_Thumbs_Up_new;Thumbs_Up_new;4\\n'\n",
      " 'WIN_20180907_15_50_05_Pro_Left Swipe_new_Left Swipe_new;Left Swipe_new_Left Swipe_new;0\\n'\n",
      " 'WIN_20180925_17_30_21_Pro_Right_Swipe_new;Right_Swipe_new;1\\n'\n",
      " 'WIN_20180925_18_16_51_Pro_Right_Swipe_new;Right_Swipe_new;1\\n'\n",
      " 'WIN_20180907_16_54_21_Pro_Thumbs Down_new;Thumbs Down_new;3\\n'\n",
      " 'WIN_20180926_17_05_27_Pro_Left_Swipe_new;Left_Swipe_new;0\\n'\n",
      " 'WIN_20180925_17_47_19_Pro_Right_Swipe_new;Right_Swipe_new;1\\n'\n",
      " 'WIN_20180925_17_36_07_Pro_Right_Swipe_new;Right_Swipe_new;1\\n'\n",
      " 'WIN_20180926_17_36_34_Pro_Right_Swipe_new;Right_Swipe_new;1\\n'\n",
      " 'WIN_20180926_16_52_10_Pro_Thumbs_Up_new;Thumbs_Up_new;4\\n'\n",
      " 'WIN_20180907_16_40_47_Pro_Thumbs Down_new;Thumbs Down_new;3\\n'\n",
      " 'WIN_20180925_17_45_31_Pro_Stop_new;Stop_new;2\\n'\n",
      " 'WIN_20180925_18_26_40_Pro_Thumbs_Down_new;Thumbs_Down_new;3\\n'\n",
      " 'WIN_20180907_16_22_00_Pro_Thumbs Up_new;Thumbs Up_new;4\\n'\n",
      " 'WIN_20180926_17_40_43_Pro_Thumbs_Down_new;Thumbs_Down_new;3\\n'\n",
      " 'WIN_20180907_16_30_24_Pro_Stop Gesture_new;Stop Gesture_new;2\\n'\n",
      " 'WIN_20180926_17_15_10_Pro_Stop_new;Stop_new;2\\n'\n",
      " 'WIN_20180907_16_04_13_Pro_Thumbs Down_new;Thumbs Down_new;3\\n'\n",
      " 'WIN_20180925_17_57_22_Pro_Stop_new;Stop_new;2\\n'\n",
      " 'WIN_20180926_16_45_10_Pro_Thumbs_Up_new;Thumbs_Up_new;4\\n'\n",
      " 'WIN_20180925_18_01_52_Pro_Stop_new;Stop_new;2\\n'\n",
      " 'WIN_20180926_16_55_16_Pro_Right_Swipe_new;Right_Swipe_new;1\\n'\n",
      " 'WIN_20180926_17_07_57_Pro_Thumbs_Up_new;Thumbs_Up_new;4\\n'\n",
      " 'WIN_20180925_17_32_14_Pro_Right_Swipe_new;Right_Swipe_new;1\\n'\n",
      " 'WIN_20180926_17_17_18_Pro_Thumbs_Down_new;Thumbs_Down_new;3\\n'\n",
      " 'WIN_20180926_17_36_31_Pro_Thumbs_Down_new;Thumbs_Down_new;3\\n'\n",
      " 'WIN_20180926_17_03_21_Pro_Stop_new;Stop_new;2\\n'\n",
      " 'WIN_20180926_16_55_47_Pro_Right_Swipe_new;Right_Swipe_new;1\\n'\n",
      " 'WIN_20180925_17_50_31_Pro_Right_Swipe_new;Right_Swipe_new;1\\n'\n",
      " 'WIN_20180925_17_42_12_Pro_Right_Swipe_new;Right_Swipe_new;1\\n'\n",
      " 'WIN_20180926_17_20_22_Pro_Thumbs_Down_new;Thumbs_Down_new;3\\n'\n",
      " 'WIN_20180926_17_51_06_Pro_Stop_new;Stop_new;2\\n'\n",
      " 'WIN_20180925_17_50_44_Pro_Left_Swipe_new;Left_Swipe_new;0\\n'\n",
      " 'WIN_20180926_17_42_21_Pro_Thumbs_Down_new;Thumbs_Down_new;3\\n'\n",
      " 'WIN_20180926_16_51_04_Pro_Stop_new;Stop_new;2\\n'\n",
      " 'WIN_20180925_17_35_39_Pro_Left_Swipe_new;Left_Swipe_new;0\\n'\n",
      " 'WIN_20180907_16_42_19_Pro_Left Swipe_new_Left Swipe_new;Left Swipe_new_Left Swipe_new;0\\n'\n",
      " 'WIN_20180925_17_46_05_Pro_Stop_new;Stop_new;2\\n'\n",
      " 'WIN_20180925_17_48_42_Pro_Thumbs_Up_new;Thumbs_Up_new;4\\n'\n",
      " 'WIN_20180926_16_53_28_Pro_Thumbs_Up_new;Thumbs_Up_new;4\\n'\n",
      " 'WIN_20180907_15_45_40_Pro_Left Swipe_new_Left Swipe_new;Left Swipe_new_Left Swipe_new;0\\n'\n",
      " 'WIN_20180925_17_42_50_Pro_Thumbs_Down_new;Thumbs_Down_new;3\\n'\n",
      " 'WIN_20180926_17_38_09_Pro_Left_Swipe_new;Left_Swipe_new;0\\n'\n",
      " 'WIN_20180926_16_54_53_Pro_Thumbs_Down_new;Thumbs_Down_new;3\\n'\n",
      " 'WIN_20180926_16_39_58_Pro_Thumbs_Down_new;Thumbs_Down_new;3\\n'\n",
      " 'WIN_20180907_16_31_12_Pro_Thumbs Down_new;Thumbs Down_new;3\\n'\n",
      " 'WIN_20180907_15_47_19_Pro_Thumbs Up_new;Thumbs Up_new;4\\n'\n",
      " 'WIN_20180907_15_35_09_Pro_Right Swipe_new;Right Swipe_new;1\\n'\n",
      " 'WIN_20180926_17_33_08_Pro_Thumbs_Down_new;Thumbs_Down_new;3\\n'\n",
      " 'WIN_20180925_17_41_24_Pro_Thumbs_Up_new;Thumbs_Up_new;4\\n'\n",
      " 'WIN_20180925_17_55_57_Pro_Left_Swipe_new;Left_Swipe_new;0\\n'\n",
      " 'WIN_20180925_18_16_56_Pro_Thumbs_Down_new;Thumbs_Down_new;3\\n'\n",
      " 'WIN_20180925_17_57_31_Pro_Stop_new;Stop_new;2\\n'\n",
      " 'WIN_20180925_17_27_22_Pro_Thumbs_Up_new;Thumbs_Up_new;4\\n'\n",
      " 'WIN_20180925_17_49_11_Pro_Thumbs_Down_new;Thumbs_Down_new;3\\n'\n",
      " 'WIN_20180907_16_08_46_Pro_Thumbs Down_new;Thumbs Down_new;3\\n'\n",
      " 'WIN_20180926_16_38_18_Pro_Thumbs_Down_new;Thumbs_Down_new;3\\n'\n",
      " 'WIN_20180925_18_07_19_Pro_Left_Swipe_new;Left_Swipe_new;0\\n'\n",
      " 'WIN_20180926_17_13_39_Pro_Right_Swipe_new;Right_Swipe_new;1\\n'\n",
      " 'WIN_20180925_17_20_22_Pro_Right_Swipe_new;Right_Swipe_new;1\\n'\n",
      " 'WIN_20180907_16_13_35_Pro_Thumbs Up_new;Thumbs Up_new;4\\n'\n",
      " 'WIN_20180925_17_26_25_Pro_Left_Swipe_new;Left_Swipe_new;0\\n'\n",
      " 'WIN_20180925_17_46_48_Pro_Right_Swipe_new;Right_Swipe_new;1\\n'\n",
      " 'WIN_20180925_17_31_48_Pro_Stop_new;Stop_new;2\\n'\n",
      " 'WIN_20180926_17_28_28_Pro_Stop_new;Stop_new;2\\n'\n",
      " 'WIN_20180926_17_29_54_Pro_Thumbs_Down_new;Thumbs_Down_new;3\\n'\n",
      " 'WIN_20180926_16_57_19_Pro_Right_Swipe_new;Right_Swipe_new;1\\n'\n",
      " 'WIN_20180926_17_14_56_Pro_Right_Swipe_new;Right_Swipe_new;1\\n'\n",
      " 'WIN_20180925_17_28_57_Pro_Right_Swipe_new;Right_Swipe_new;1\\n'\n",
      " 'WIN_20180926_16_51_21_Pro_Thumbs_Down_new;Thumbs_Down_new;3\\n'\n",
      " 'WIN_20180907_16_11_00_Pro_Thumbs Down_new;Thumbs Down_new;3\\n'\n",
      " 'WIN_20180926_17_33_09_Pro_Thumbs_Up_new;Thumbs_Up_new;4\\n'\n",
      " 'WIN_20180907_15_43_40_Pro_Stop Gesture_new;Stop Gesture_new;2\\n'\n",
      " 'WIN_20180926_16_45_15_Pro_Left_Swipe_new;Left_Swipe_new;0\\n'\n",
      " 'WIN_20180926_16_49_49_Pro_Thumbs_Up_new;Thumbs_Up_new;4\\n'\n",
      " 'WIN_20180926_17_00_44_Pro_Thumbs_Down_new;Thumbs_Down_new;3\\n'\n",
      " 'WIN_20180907_16_37_37_Pro_Left Swipe_new_Left Swipe_new;Left Swipe_new_Left Swipe_new;0\\n'\n",
      " 'WIN_20180926_16_46_40_Pro_Left_Swipe_new;Left_Swipe_new;0\\n'\n",
      " 'WIN_20180926_17_06_30_Pro_Thumbs_Down_new;Thumbs_Down_new;3\\n'\n",
      " 'WIN_20180925_17_39_11_Pro_Stop_new;Stop_new;2\\n'\n",
      " 'WIN_20180925_17_24_26_Pro_Right_Swipe_new;Right_Swipe_new;1\\n'\n",
      " 'WIN_20180907_15_45_30_Pro_Thumbs Up_new;Thumbs Up_new;4\\n'\n",
      " 'WIN_20180907_16_17_00_Pro_Right Swipe_new;Right Swipe_new;1\\n'\n",
      " 'WIN_20180925_17_35_12_Pro_Stop_new;Stop_new;2\\n'\n",
      " 'WIN_20180925_17_55_36_Pro_Right_Swipe_new;Right_Swipe_new;1\\n'\n",
      " 'WIN_20180925_17_22_55_Pro_Left_Swipe_new;Left_Swipe_new;0\\n'\n",
      " 'WIN_20180925_18_14_47_Pro_Thumbs_Down_new;Thumbs_Down_new;3\\n'\n",
      " 'WIN_20180926_17_24_33_Pro_Thumbs_Up_new;Thumbs_Up_new;4\\n'\n",
      " 'WIN_20180926_17_20_39_Pro_Right_Swipe_new;Right_Swipe_new;1\\n'\n",
      " 'WIN_20180926_18_07_05_Pro_Right_Swipe_new;Right_Swipe_new;1\\n'\n",
      " 'WIN_20180925_17_42_57_Pro_Right_Swipe_new;Right_Swipe_new;1\\n'\n",
      " 'WIN_20180907_16_30_30_Pro_Thumbs Up_new;Thumbs Up_new;4\\n'\n",
      " 'WIN_20180907_16_56_18_Pro_Stop Gesture_new;Stop Gesture_new;2\\n'\n",
      " 'WIN_20180907_16_14_43_Pro_Thumbs Down_new;Thumbs Down_new;3\\n'\n",
      " 'WIN_20180907_16_01_20_Pro_Thumbs Up_new;Thumbs Up_new;4\\n'\n",
      " 'WIN_20180926_17_04_21_Pro_Thumbs_Up_new;Thumbs_Up_new;4\\n'\n",
      " 'WIN_20180907_15_39_54_Pro_Thumbs Up_new;Thumbs Up_new;4\\n'\n",
      " 'WIN_20180907_16_05_58_Pro_Stop Gesture_new;Stop Gesture_new;2\\n'\n",
      " 'WIN_20180926_17_07_50_Pro_Right_Swipe_new;Right_Swipe_new;1\\n'\n",
      " 'WIN_20180925_17_50_17_Pro_Thumbs_Down_new;Thumbs_Down_new;3\\n'\n",
      " 'WIN_20180907_15_49_14_Pro_Thumbs Down_new;Thumbs Down_new;3\\n'\n",
      " 'WIN_20180907_16_25_22_Pro_Thumbs Down_new;Thumbs Down_new;3\\n'\n",
      " 'WIN_20180925_18_06_24_Pro_Stop_new;Stop_new;2\\n'\n",
      " 'WIN_20180925_17_55_45_Pro_Thumbs_Down_new;Thumbs_Down_new;3\\n'\n",
      " 'WIN_20180925_17_47_32_Pro_Thumbs_Down_new;Thumbs_Down_new;3\\n'\n",
      " 'WIN_20180925_17_37_54_Pro_Thumbs_Down_new;Thumbs_Down_new;3\\n'\n",
      " 'WIN_20180925_17_31_26_Pro_Thumbs_Up_new;Thumbs_Up_new;4\\n'\n",
      " 'WIN_20180926_16_54_30_Pro_Left_Swipe_new;Left_Swipe_new;0\\n'\n",
      " 'WIN_20180926_16_52_54_Pro_Thumbs_Down_new;Thumbs_Down_new;3\\n'\n",
      " 'WIN_20180926_16_35_06_Pro_Thumbs_Down_new;Thumbs_Down_new;3\\n'\n",
      " 'WIN_20180925_18_28_41_Pro_Thumbs_Down_new;Thumbs_Down_new;3\\n'\n",
      " 'WIN_20180907_16_06_16_Pro_Left Swipe_new_Left Swipe_new;Left Swipe_new_Left Swipe_new;0\\n'\n",
      " 'WIN_20180925_17_19_51_Pro_Left_Swipe_new;Left_Swipe_new;0\\n'\n",
      " 'WIN_20180926_16_44_37_Pro_Left_Swipe_new;Left_Swipe_new;0\\n'\n",
      " 'WIN_20180907_16_01_34_Pro_Left Swipe_new_Left Swipe_new;Left Swipe_new_Left Swipe_new;0\\n'\n",
      " 'WIN_20180926_16_48_34_Pro_Left_Swipe_new;Left_Swipe_new;0\\n'\n",
      " 'WIN_20180907_16_27_05_Pro_Right Swipe_new;Right Swipe_new;1\\n'\n",
      " 'WIN_20180925_17_51_26_Pro_Left_Swipe_new;Left_Swipe_new;0\\n'\n",
      " 'WIN_20180925_17_25_14_Pro_Thumbs_Up_new;Thumbs_Up_new;4\\n'\n",
      " 'WIN_20180925_18_01_57_Pro_Left_Swipe_new;Left_Swipe_new;0\\n'\n",
      " 'WIN_20180925_17_34_40_Pro_Right_Swipe_new;Right_Swipe_new;1\\n'\n",
      " 'WIN_20180926_17_21_18_Pro_Thumbs_Up_new;Thumbs_Up_new;4\\n'\n",
      " 'WIN_20180926_16_59_55_Pro_Thumbs_Down_new;Thumbs_Down_new;3\\n'\n",
      " 'WIN_20180907_15_56_26_Pro_Thumbs Up_new;Thumbs Up_new;4\\n'\n",
      " 'WIN_20180926_17_14_32_Pro_Left_Swipe_new;Left_Swipe_new;0\\n'\n",
      " 'WIN_20180926_17_23_43_Pro_Thumbs_Up_new;Thumbs_Up_new;4\\n'\n",
      " 'WIN_20180925_17_37_08_Pro_Left_Swipe_new;Left_Swipe_new;0\\n'\n",
      " 'WIN_20180926_16_52_36_Pro_Stop_new;Stop_new;2\\n'\n",
      " 'WIN_20180925_17_27_40_Pro_Left_Swipe_new;Left_Swipe_new;0\\n'\n",
      " 'WIN_20180926_17_29_37_Pro_Thumbs_Up_new;Thumbs_Up_new;4\\n'\n",
      " 'WIN_20180925_17_26_37_Pro_Thumbs_Up_new;Thumbs_Up_new;4\\n'\n",
      " 'WIN_20180926_17_47_31_Pro_Thumbs_Down_new;Thumbs_Down_new;3\\n'\n",
      " 'WIN_20180926_16_59_06_Pro_Left_Swipe_new;Left_Swipe_new;0\\n'\n",
      " 'WIN_20180925_17_45_23_Pro_Thumbs_Down_new;Thumbs_Down_new;3\\n'\n",
      " 'WIN_20180926_17_12_29_Pro_Thumbs_Down_new;Thumbs_Down_new;3\\n'\n",
      " 'WIN_20180925_18_05_57_Pro_Right_Swipe_new;Right_Swipe_new;1\\n'\n",
      " 'WIN_20180907_15_52_03_Pro_Stop Gesture_new;Stop Gesture_new;2\\n'\n",
      " 'WIN_20180907_16_20_37_Pro_Thumbs Up_new;Thumbs Up_new;4\\n'\n",
      " 'WIN_20180925_17_57_36_Pro_Left_Swipe_new;Left_Swipe_new;0\\n'\n",
      " 'WIN_20180907_16_35_51_Pro_Right Swipe_new;Right Swipe_new;1\\n'\n",
      " 'WIN_20180926_17_26_41_Pro_Right_Swipe_new;Right_Swipe_new;1\\n'\n",
      " 'WIN_20180907_15_57_35_Pro_Thumbs Up_new;Thumbs Up_new;4\\n'\n",
      " 'WIN_20180926_17_20_43_Pro_Left_Swipe_new;Left_Swipe_new;0\\n'\n",
      " 'WIN_20180925_17_39_25_Pro_Left_Swipe_new;Left_Swipe_new;0\\n'\n",
      " 'WIN_20180925_17_37_42_Pro_Stop_new;Stop_new;2\\n'\n",
      " 'WIN_20180925_17_55_12_Pro_Left_Swipe_new;Left_Swipe_new;0\\n'\n",
      " 'WIN_20180926_17_20_04_Pro_Right_Swipe_new;Right_Swipe_new;1\\n'\n",
      " 'WIN_20180907_16_29_34_Pro_Right Swipe_new;Right Swipe_new;1\\n'\n",
      " 'WIN_20180907_15_59_28_Pro_Thumbs Up_new;Thumbs Up_new;4\\n'\n",
      " 'WIN_20180926_17_39_48_Pro_Right_Swipe_new;Right_Swipe_new;1\\n'\n",
      " 'WIN_20180926_16_55_27_Pro_Thumbs_Up_new;Thumbs_Up_new;4\\n'\n",
      " 'WIN_20180926_17_32_29_Pro_Thumbs_Down_new;Thumbs_Down_new;3\\n'\n",
      " 'WIN_20180925_17_42_57_Pro_Stop_new;Stop_new;2\\n'\n",
      " 'WIN_20180926_17_21_38_Pro_Thumbs_Up_new;Thumbs_Up_new;4\\n'\n",
      " 'WIN_20180925_17_43_57_Pro_Stop_new;Stop_new;2\\n'\n",
      " 'WIN_20180926_17_23_26_Pro_Stop_new;Stop_new;2\\n'\n",
      " 'WIN_20180925_18_01_26_Pro_Right_Swipe_new;Right_Swipe_new;1\\n'\n",
      " 'WIN_20180926_17_07_09_Pro_Left_Swipe_new;Left_Swipe_new;0\\n'\n",
      " 'WIN_20180926_17_06_26_Pro_Stop_new;Stop_new;2\\n'\n",
      " 'WIN_20180907_16_00_54_Pro_Right Swipe_new;Right Swipe_new;1\\n'\n",
      " 'WIN_20180926_16_45_45_Pro_Thumbs_Down_new;Thumbs_Down_new;3\\n'\n",
      " 'WIN_20180907_16_16_27_Pro_Left Swipe_new_Left Swipe_new;Left Swipe_new_Left Swipe_new;0\\n'\n",
      " 'WIN_20180926_16_56_13_Pro_Thumbs_Up_new;Thumbs_Up_new;4\\n'\n",
      " 'WIN_20180925_17_43_11_Pro_Thumbs_Up_new;Thumbs_Up_new;4\\n'\n",
      " 'WIN_20180925_17_44_12_Pro_Thumbs_Up_new;Thumbs_Up_new;4\\n'\n",
      " 'WIN_20180907_16_25_47_Pro_Left Swipe_new_Left Swipe_new;Left Swipe_new_Left Swipe_new;0\\n'\n",
      " 'WIN_20180926_17_13_59_Pro_Thumbs_Down_new;Thumbs_Down_new;3\\n'\n",
      " 'WIN_20180926_17_10_30_Pro_Stop_new;Stop_new;2\\n'\n",
      " 'WIN_20180925_17_18_56_Pro_Left_Swipe_new;Left_Swipe_new;0\\n'\n",
      " 'WIN_20180926_17_10_43_Pro_Thumbs_Up_new;Thumbs_Up_new;4\\n'\n",
      " 'WIN_20180907_15_51_58_Pro_Right Swipe_new;Right Swipe_new;1\\n'\n",
      " 'WIN_20180925_18_03_22_Pro_Thumbs_Down_new;Thumbs_Down_new;3\\n'\n",
      " 'WIN_20180926_17_03_37_Pro_Thumbs_Down_new;Thumbs_Down_new;3\\n'\n",
      " 'WIN_20180907_16_28_15_Pro_Stop Gesture_new;Stop Gesture_new;2\\n'\n",
      " 'WIN_20180907_16_40_19_Pro_Left Swipe_new_Left Swipe_new;Left Swipe_new_Left Swipe_new;0\\n'\n",
      " 'WIN_20180925_17_40_41_Pro_Left_Swipe_new;Left_Swipe_new;0\\n'\n",
      " 'WIN_20180926_17_40_35_Pro_Left_Swipe_new;Left_Swipe_new;0\\n'\n",
      " 'WIN_20180926_16_41_27_Pro_Right_Swipe_new;Right_Swipe_new;1\\n'\n",
      " 'WIN_20180925_17_44_25_Pro_Stop_new;Stop_new;2\\n'\n",
      " 'WIN_20180925_17_18_25_Pro_Right_Swipe_new;Right_Swipe_new;1\\n'\n",
      " 'WIN_20180925_18_00_23_Pro_Right_Swipe_new;Right_Swipe_new;1\\n'\n",
      " 'WIN_20180926_16_35_34_Pro_Stop_new;Stop_new;2\\n'\n",
      " 'WIN_20180925_17_32_38_Pro_Right_Swipe_new;Right_Swipe_new;1\\n'\n",
      " 'WIN_20180925_17_49_29_Pro_Left_Swipe_new;Left_Swipe_new;0\\n'\n",
      " 'WIN_20180907_15_58_45_Pro_Left Swipe_new_Left Swipe_new;Left Swipe_new_Left Swipe_new;0\\n'\n",
      " 'WIN_20180925_17_17_26_Pro_Right_Swipe_new;Right_Swipe_new;1\\n'\n",
      " 'WIN_20180925_17_53_35_Pro_Stop_new;Stop_new;2\\n'\n",
      " 'WIN_20180926_16_46_07_Pro_Right_Swipe_new;Right_Swipe_new;1\\n'\n",
      " 'WIN_20180926_16_41_11_Pro_Thumbs_Up_new;Thumbs_Up_new;4\\n'\n",
      " 'WIN_20180926_16_52_43_Pro_Thumbs_Down_new;Thumbs_Down_new;3\\n'\n",
      " 'WIN_20180925_17_46_09_Pro_Right_Swipe_new;Right_Swipe_new;1\\n'\n",
      " 'WIN_20180925_17_37_30_Pro_Left_Swipe_new;Left_Swipe_new;0\\n'\n",
      " 'WIN_20180926_17_21_29_Pro_Stop_new;Stop_new;2\\n'\n",
      " 'WIN_20180925_18_08_31_Pro_Thumbs_Down_new;Thumbs_Down_new;3\\n'\n",
      " 'WIN_20180907_16_06_43_Pro_Stop Gesture_new;Stop Gesture_new;2\\n'\n",
      " 'WIN_20180926_17_27_29_Pro_Stop_new;Stop_new;2\\n'\n",
      " 'WIN_20180907_16_15_33_Pro_Thumbs Up_new;Thumbs Up_new;4\\n'\n",
      " 'WIN_20180926_17_39_59_Pro_Thumbs_Down_new;Thumbs_Down_new;3\\n'\n",
      " 'WIN_20180926_17_39_18_Pro_Thumbs_Down_new;Thumbs_Down_new;3\\n'\n",
      " 'WIN_20180926_17_07_29_Pro_Stop_new;Stop_new;2\\n'\n",
      " 'WIN_20180926_17_16_17_Pro_Thumbs_Up_new;Thumbs_Up_new;4\\n'\n",
      " 'WIN_20180926_17_23_39_Pro_Left_Swipe_new;Left_Swipe_new;0\\n'\n",
      " 'WIN_20180907_16_21_32_Pro_Thumbs Down_new;Thumbs Down_new;3\\n'\n",
      " 'WIN_20180926_18_05_38_Pro_Right_Swipe_new;Right_Swipe_new;1\\n'\n",
      " 'WIN_20180926_16_56_12_Pro_Stop_new;Stop_new;2\\n'\n",
      " 'WIN_20180907_16_30_13_Pro_Right Swipe_new;Right Swipe_new;1\\n'\n",
      " 'WIN_20180907_15_45_56_Pro_Thumbs Down_new;Thumbs Down_new;3\\n'\n",
      " 'WIN_20180925_18_13_58_Pro_Thumbs_Down_new;Thumbs_Down_new;3\\n'\n",
      " 'WIN_20180926_17_33_51_Pro_Thumbs_Down_new;Thumbs_Down_new;3\\n'\n",
      " 'WIN_20180907_16_15_15_Pro_Thumbs Down_new;Thumbs Down_new;3\\n'\n",
      " 'WIN_20180926_17_23_38_Pro_Thumbs_Down_new;Thumbs_Down_new;3\\n'\n",
      " 'WIN_20180925_17_46_20_Pro_Left_Swipe_new;Left_Swipe_new;0\\n'\n",
      " 'WIN_20180926_16_56_54_Pro_Stop_new;Stop_new;2\\n'\n",
      " 'WIN_20180925_17_35_24_Pro_Right_Swipe_new;Right_Swipe_new;1\\n'\n",
      " 'WIN_20180907_15_50_33_Pro_Left Swipe_new_Left Swipe_new;Left Swipe_new_Left Swipe_new;0\\n'\n",
      " 'WIN_20180907_16_41_45_Pro_Right Swipe_new;Right Swipe_new;1\\n'\n",
      " 'WIN_20180907_16_35_35_Pro_Left Swipe_new_Left Swipe_new;Left Swipe_new_Left Swipe_new;0\\n'\n",
      " 'WIN_20180926_17_19_06_Pro_Thumbs_Down_new;Thumbs_Down_new;3\\n'\n",
      " 'WIN_20180907_15_38_35_Pro_Thumbs Down_new;Thumbs Down_new;3\\n'\n",
      " 'WIN_20180926_17_11_36_Pro_Thumbs_Down_new;Thumbs_Down_new;3\\n'\n",
      " 'WIN_20180926_17_20_19_Pro_Left_Swipe_new;Left_Swipe_new;0\\n'\n",
      " 'WIN_20180925_17_28_48_Pro_Stop_new;Stop_new;2\\n'\n",
      " 'WIN_20180907_16_28_49_Pro_Right Swipe_new;Right Swipe_new;1\\n'\n",
      " 'WIN_20180926_17_15_56_Pro_Right_Swipe_new;Right_Swipe_new;1\\n'\n",
      " 'WIN_20180926_17_30_50_Pro_Stop_new;Stop_new;2\\n'\n",
      " 'WIN_20180926_17_38_34_Pro_Right_Swipe_new;Right_Swipe_new;1\\n'\n",
      " 'WIN_20180907_16_15_44_Pro_Thumbs Down_new;Thumbs Down_new;3\\n'\n",
      " 'WIN_20180926_17_10_21_Pro_Left_Swipe_new;Left_Swipe_new;0\\n'\n",
      " 'WIN_20180907_16_38_29_Pro_Left Swipe_new_Left Swipe_new;Left Swipe_new_Left Swipe_new;0\\n'\n",
      " 'WIN_20180925_17_18_28_Pro_Left_Swipe_new;Left_Swipe_new;0\\n'\n",
      " 'WIN_20180907_16_18_59_Pro_Stop Gesture_new;Stop Gesture_new;2\\n'\n",
      " 'WIN_20180907_16_33_33_Pro_Thumbs Down_new;Thumbs Down_new;3\\n'\n",
      " 'WIN_20180926_17_45_57_Pro_Thumbs_Down_new;Thumbs_Down_new;3\\n'\n",
      " 'WIN_20180925_17_48_24_Pro_Stop_new;Stop_new;2\\n'\n",
      " 'WIN_20180926_17_15_12_Pro_Left_Swipe_new;Left_Swipe_new;0\\n'\n",
      " 'WIN_20180926_17_40_55_Pro_Thumbs_Down_new;Thumbs_Down_new;3\\n'\n",
      " 'WIN_20180907_16_25_05_Pro_Stop Gesture_new;Stop Gesture_new;2\\n'\n",
      " 'WIN_20180907_15_53_12_Pro_Thumbs Up_new;Thumbs Up_new;4\\n'\n",
      " 'WIN_20180907_15_43_58_Pro_Left Swipe_new_Left Swipe_new;Left Swipe_new_Left Swipe_new;0\\n'\n",
      " 'WIN_20180926_17_40_37_Pro_Stop_new;Stop_new;2\\n'\n",
      " 'WIN_20180926_17_53_03_Pro_Right_Swipe_new;Right_Swipe_new;1\\n'\n",
      " 'WIN_20180907_15_49_58_Pro_Stop Gesture_new;Stop Gesture_new;2\\n'\n",
      " 'WIN_20180926_17_00_32_Pro_Left_Swipe_new;Left_Swipe_new;0\\n'\n",
      " 'WIN_20180926_17_03_21_Pro_Left_Swipe_new;Left_Swipe_new;0\\n'\n",
      " 'WIN_20180925_17_39_48_Pro_Thumbs_Down_new;Thumbs_Down_new;3\\n'\n",
      " 'WIN_20180926_17_25_32_Pro_Left_Swipe_new;Left_Swipe_new;0\\n'\n",
      " 'WIN_20180907_16_18_43_Pro_Thumbs Up_new;Thumbs Up_new;4\\n'\n",
      " 'WIN_20180926_16_58_12_Pro_Left_Swipe_new;Left_Swipe_new;0\\n'\n",
      " 'WIN_20180907_15_56_32_Pro_Left Swipe_new_Left Swipe_new;Left Swipe_new_Left Swipe_new;0\\n'\n",
      " 'WIN_20180907_16_29_23_Pro_Left Swipe_new_Left Swipe_new;Left Swipe_new_Left Swipe_new;0\\n'\n",
      " 'WIN_20180925_17_51_49_Pro_Left_Swipe_new;Left_Swipe_new;0\\n'\n",
      " 'WIN_20180925_18_02_17_Pro_Left_Swipe_new;Left_Swipe_new;0\\n'\n",
      " 'WIN_20180925_17_41_54_Pro_Thumbs_Up_new;Thumbs_Up_new;4\\n'\n",
      " 'WIN_20180907_16_28_20_Pro_Thumbs Up_new;Thumbs Up_new;4\\n'\n",
      " 'WIN_20180925_17_44_26_Pro_Right_Swipe_new;Right_Swipe_new;1\\n'\n",
      " 'WIN_20180907_16_10_07_Pro_Thumbs Down_new;Thumbs Down_new;3\\n'\n",
      " 'WIN_20180926_17_42_17_Pro_Thumbs_Up_new;Thumbs_Up_new;4\\n'\n",
      " 'WIN_20180925_17_18_07_Pro_Thumbs_Up_new;Thumbs_Up_new;4\\n'\n",
      " 'WIN_20180925_17_40_22_Pro_Thumbs_Down_new;Thumbs_Down_new;3\\n'\n",
      " 'WIN_20180907_16_25_52_Pro_Thumbs Down_new;Thumbs Down_new;3\\n'\n",
      " 'WIN_20180926_17_33_51_Pro_Thumbs_Up_new;Thumbs_Up_new;4\\n'\n",
      " 'WIN_20180925_17_24_49_Pro_Left_Swipe_new;Left_Swipe_new;0\\n'\n",
      " 'WIN_20180907_16_24_28_Pro_Stop Gesture_new;Stop Gesture_new;2\\n'\n",
      " 'WIN_20180926_17_43_07_Pro_Left_Swipe_new;Left_Swipe_new;0\\n'\n",
      " 'WIN_20180926_17_10_00_Pro_Thumbs_Up_new;Thumbs_Up_new;4\\n'\n",
      " 'WIN_20180926_17_49_29_Pro_Stop_new;Stop_new;2\\n'\n",
      " 'WIN_20180907_16_02_21_Pro_Left Swipe_new_Left Swipe_new;Left Swipe_new_Left Swipe_new;0\\n'\n",
      " 'WIN_20180926_16_54_48_Pro_Left_Swipe_new;Left_Swipe_new;0\\n'\n",
      " 'WIN_20180926_17_26_13_Pro_Left_Swipe_new;Left_Swipe_new;0\\n'\n",
      " 'WIN_20180925_17_23_34_Pro_Right_Swipe_new;Right_Swipe_new;1\\n'\n",
      " 'WIN_20180926_17_39_05_Pro_Stop_new;Stop_new;2\\n'\n",
      " 'WIN_20180907_16_06_32_Pro_Thumbs Up_new;Thumbs Up_new;4\\n'\n",
      " 'WIN_20180907_16_12_20_Pro_Right Swipe_new;Right Swipe_new;1\\n'\n",
      " 'WIN_20180926_17_28_09_Pro_Thumbs_Down_new;Thumbs_Down_new;3\\n'\n",
      " 'WIN_20180925_17_22_11_Pro_Thumbs_Up_new;Thumbs_Up_new;4\\n'\n",
      " 'WIN_20180907_16_02_30_Pro_Thumbs Up_new;Thumbs Up_new;4\\n'\n",
      " 'WIN_20180907_16_04_14_Pro_Left Swipe_new_Left Swipe_new;Left Swipe_new_Left Swipe_new;0\\n'\n",
      " 'WIN_20180926_17_16_10_Pro_Left_Swipe_new;Left_Swipe_new;0\\n'\n",
      " 'WIN_20180925_18_17_43_Pro_Right_Swipe_new;Right_Swipe_new;1\\n'\n",
      " 'WIN_20180926_16_57_34_Pro_Left_Swipe_new;Left_Swipe_new;0\\n'\n",
      " 'WIN_20180925_18_08_08_Pro_Thumbs_Up_new;Thumbs_Up_new;4\\n'\n",
      " 'WIN_20180907_15_56_07_Pro_Stop Gesture_new;Stop Gesture_new;2\\n'\n",
      " 'WIN_20180925_18_01_30_Pro_Stop_new;Stop_new;2\\n'\n",
      " 'WIN_20180926_17_03_38_Pro_Thumbs_Up_new;Thumbs_Up_new;4\\n'\n",
      " 'WIN_20180907_16_21_23_Pro_Right Swipe_new;Right Swipe_new;1\\n'\n",
      " 'WIN_20180926_17_35_35_Pro_Thumbs_Down_new;Thumbs_Down_new;3\\n'\n",
      " 'WIN_20180926_17_25_30_Pro_Right_Swipe_new;Right_Swipe_new;1\\n'\n",
      " 'WIN_20180925_17_52_58_Pro_Left_Swipe_new;Left_Swipe_new;0\\n'\n",
      " 'WIN_20180907_16_14_58_Pro_Left Swipe_new_Left Swipe_new;Left Swipe_new_Left Swipe_new;0\\n'\n",
      " 'WIN_20180926_18_04_06_Pro_Thumbs_Down_new;Thumbs_Down_new;3\\n'\n",
      " 'WIN_20180925_17_50_43_Pro_Stop_new;Stop_new;2\\n'\n",
      " 'WIN_20180925_17_58_10_Pro_Stop_new;Stop_new;2\\n'\n",
      " 'WIN_20180926_17_27_34_Pro_Thumbs_Down_new;Thumbs_Down_new;3\\n'\n",
      " 'WIN_20180925_17_50_07_Pro_Thumbs_Down_new;Thumbs_Down_new;3\\n'\n",
      " 'WIN_20180925_18_06_23_Pro_Thumbs_Down_new;Thumbs_Down_new;3\\n'\n",
      " 'WIN_20180907_16_21_11_Pro_Stop Gesture_new;Stop Gesture_new;2\\n'\n",
      " 'WIN_20180907_16_19_27_Pro_Stop Gesture_new;Stop Gesture_new;2\\n'\n",
      " 'WIN_20180907_16_04_43_Pro_Stop Gesture_new;Stop Gesture_new;2\\n'\n",
      " 'WIN_20180907_16_07_46_Pro_Left Swipe_new_Left Swipe_new;Left Swipe_new_Left Swipe_new;0\\n'\n",
      " 'WIN_20180907_16_38_23_Pro_Thumbs Up_new;Thumbs Up_new;4\\n'\n",
      " 'WIN_20180926_17_43_57_Pro_Stop_new;Stop_new;2\\n'\n",
      " 'WIN_20180926_17_13_01_Pro_Thumbs_Up_new;Thumbs_Up_new;4\\n'\n",
      " 'WIN_20180925_17_31_02_Pro_Right_Swipe_new;Right_Swipe_new;1\\n'\n",
      " 'WIN_20180925_17_43_33_Pro_Thumbs_Down_new;Thumbs_Down_new;3\\n'\n",
      " 'WIN_20180925_17_48_24_Pro_Left_Swipe_new;Left_Swipe_new;0\\n'\n",
      " 'WIN_20180907_15_54_27_Pro_Thumbs Down_new;Thumbs Down_new;3\\n'\n",
      " 'WIN_20180926_16_51_55_Pro_Left_Swipe_new;Left_Swipe_new;0\\n'\n",
      " 'WIN_20180926_16_39_35_Pro_Stop_new;Stop_new;2\\n'\n",
      " 'WIN_20180926_17_37_02_Pro_Stop_new;Stop_new;2\\n'\n",
      " 'WIN_20180907_15_44_13_Pro_Stop Gesture_new;Stop Gesture_new;2\\n'\n",
      " 'WIN_20180907_16_02_59_Pro_Stop Gesture_new;Stop Gesture_new;2\\n'\n",
      " 'WIN_20180926_16_51_37_Pro_Right_Swipe_new;Right_Swipe_new;1\\n'\n",
      " 'WIN_20180925_17_47_47_Pro_Right_Swipe_new;Right_Swipe_new;1\\n'\n",
      " 'WIN_20180926_17_19_35_Pro_Stop_new;Stop_new;2\\n'\n",
      " 'WIN_20180926_16_49_40_Pro_Stop_new;Stop_new;2\\n'\n",
      " 'WIN_20180926_17_15_18_Pro_Thumbs_Up_new;Thumbs_Up_new;4\\n'\n",
      " 'WIN_20180907_16_03_09_Pro_Thumbs Down_new;Thumbs Down_new;3\\n'\n",
      " 'WIN_20180925_18_06_22_Pro_Left_Swipe_new;Left_Swipe_new;0\\n'\n",
      " 'WIN_20180907_16_57_43_Pro_Stop Gesture_new;Stop Gesture_new;2\\n'\n",
      " 'WIN_20180926_16_49_15_Pro_Left_Swipe_new;Left_Swipe_new;0\\n'\n",
      " 'WIN_20180926_17_41_29_Pro_Right_Swipe_new;Right_Swipe_new;1\\n'\n",
      " 'WIN_20180925_17_57_12_Pro_Thumbs_Up_new;Thumbs_Up_new;4\\n'\n",
      " 'WIN_20180907_15_43_28_Pro_Right Swipe_new;Right Swipe_new;1\\n'\n",
      " 'WIN_20180925_18_11_52_Pro_Right_Swipe_new;Right_Swipe_new;1\\n'\n",
      " 'WIN_20180926_17_29_33_Pro_Left_Swipe_new;Left_Swipe_new;0\\n'\n",
      " 'WIN_20180907_16_49_05_Pro_Left Swipe_new_Left Swipe_new;Left Swipe_new_Left Swipe_new;0\\n'\n",
      " 'WIN_20180926_16_47_00_Pro_Right_Swipe_new;Right_Swipe_new;1\\n'\n",
      " 'WIN_20180907_16_24_20_Pro_Thumbs Down_new;Thumbs Down_new;3\\n'\n",
      " 'WIN_20180926_17_18_02_Pro_Thumbs_Up_new;Thumbs_Up_new;4\\n'\n",
      " 'WIN_20180926_17_30_54_Pro_Right_Swipe_new;Right_Swipe_new;1\\n'\n",
      " 'WIN_20180925_17_47_40_Pro_Thumbs_Down_new;Thumbs_Down_new;3\\n'\n",
      " 'WIN_20180907_16_22_52_Pro_Thumbs Up_new;Thumbs Up_new;4\\n'\n",
      " 'WIN_20180926_17_24_58_Pro_Right_Swipe_new;Right_Swipe_new;1\\n'\n",
      " 'WIN_20180925_17_21_28_Pro_Left_Swipe_new;Left_Swipe_new;0\\n'\n",
      " 'WIN_20180926_17_04_58_Pro_Right_Swipe_new;Right_Swipe_new;1\\n'\n",
      " 'WIN_20180907_16_23_55_Pro_Right Swipe_new;Right Swipe_new;1\\n'\n",
      " 'WIN_20180907_15_51_07_Pro_Left Swipe_new_Left Swipe_new;Left Swipe_new_Left Swipe_new;0\\n'\n",
      " 'WIN_20180925_17_34_05_Pro_Thumbs_Down_new;Thumbs_Down_new;3\\n'\n",
      " 'WIN_20180907_15_52_28_Pro_Left Swipe_new_Left Swipe_new;Left Swipe_new_Left Swipe_new;0\\n'\n",
      " 'WIN_20180907_16_37_22_Pro_Thumbs Up_new;Thumbs Up_new;4\\n'\n",
      " 'WIN_20180907_15_43_00_Pro_Left Swipe_new_Left Swipe_new;Left Swipe_new_Left Swipe_new;0\\n'\n",
      " 'WIN_20180925_17_20_16_Pro_Thumbs_Up_new;Thumbs_Up_new;4\\n'\n",
      " 'WIN_20180925_17_46_33_Pro_Thumbs_Down_new;Thumbs_Down_new;3\\n'\n",
      " 'WIN_20180926_17_30_14_Pro_Left_Swipe_new;Left_Swipe_new;0\\n'\n",
      " 'WIN_20180926_17_24_55_Pro_Stop_new;Stop_new;2\\n'\n",
      " 'WIN_20180926_17_24_54_Pro_Thumbs_Down_new;Thumbs_Down_new;3\\n'\n",
      " 'WIN_20180907_15_54_42_Pro_Left Swipe_new_Left Swipe_new;Left Swipe_new_Left Swipe_new;0\\n'\n",
      " 'WIN_20180926_17_19_12_Pro_Left_Swipe_new;Left_Swipe_new;0\\n'\n",
      " 'WIN_20180926_17_13_07_Pro_Left_Swipe_new;Left_Swipe_new;0\\n'\n",
      " 'WIN_20180926_17_11_11_Pro_Left_Swipe_new;Left_Swipe_new;0\\n'\n",
      " 'WIN_20180925_17_20_14_Pro_Left_Swipe_new;Left_Swipe_new;0\\n'\n",
      " 'WIN_20180926_17_19_13_Pro_Stop_new;Stop_new;2\\n'\n",
      " 'WIN_20180925_17_43_57_Pro_Left_Swipe_new;Left_Swipe_new;0\\n'\n",
      " 'WIN_20180907_15_56_12_Pro_Thumbs Down_new;Thumbs Down_new;3\\n'\n",
      " 'WIN_20180926_17_21_24_Pro_Thumbs_Down_new;Thumbs_Down_new;3\\n'\n",
      " 'WIN_20180925_17_37_17_Pro_Thumbs_Up_new;Thumbs_Up_new;4\\n'\n",
      " 'WIN_20180925_17_36_58_Pro_Right_Swipe_new;Right_Swipe_new;1\\n'\n",
      " 'WIN_20180925_18_02_52_Pro_Stop_new;Stop_new;2\\n'\n",
      " 'WIN_20180926_16_52_38_Pro_Left_Swipe_new;Left_Swipe_new;0\\n'\n",
      " 'WIN_20180926_17_37_45_Pro_Left_Swipe_new;Left_Swipe_new;0\\n'\n",
      " 'WIN_20180907_15_48_25_Pro_Thumbs Down_new;Thumbs Down_new;3\\n'\n",
      " 'WIN_20180907_16_35_18_Pro_Thumbs Up_new;Thumbs Up_new;4\\n'\n",
      " 'WIN_20180926_17_12_26_Pro_Stop_new;Stop_new;2\\n'\n",
      " 'WIN_20180926_17_31_45_Pro_Thumbs_Up_new;Thumbs_Up_new;4\\n'\n",
      " 'WIN_20180925_18_24_34_Pro_Thumbs_Down_new;Thumbs_Down_new;3\\n'\n",
      " 'WIN_20180907_16_01_35_Pro_Thumbs Down_new;Thumbs Down_new;3\\n'\n",
      " 'WIN_20180926_16_58_25_Pro_Stop_new;Stop_new;2\\n'\n",
      " 'WIN_20180925_17_42_31_Pro_Thumbs_Down_new;Thumbs_Down_new;3\\n'\n",
      " 'WIN_20180926_17_11_41_Pro_Left_Swipe_new;Left_Swipe_new;0\\n'\n",
      " 'WIN_20180926_17_47_06_Pro_Stop_new;Stop_new;2\\n'\n",
      " 'WIN_20180926_16_39_45_Pro_Right_Swipe_new;Right_Swipe_new;1\\n'\n",
      " 'WIN_20180925_17_49_45_Pro_Right_Swipe_new;Right_Swipe_new;1\\n'\n",
      " 'WIN_20180926_17_00_47_Pro_Stop_new;Stop_new;2\\n'\n",
      " 'WIN_20180925_17_37_12_Pro_Thumbs_Down_new;Thumbs_Down_new;3\\n'\n",
      " 'WIN_20180925_17_57_06_Pro_Thumbs_Down_new;Thumbs_Down_new;3\\n'\n",
      " 'WIN_20180926_17_27_40_Pro_Left_Swipe_new;Left_Swipe_new;0\\n'\n",
      " 'WIN_20180926_16_58_07_Pro_Thumbs_Up_new;Thumbs_Up_new;4\\n'\n",
      " 'WIN_20180926_17_16_29_Pro_Left_Swipe_new;Left_Swipe_new;0\\n'\n",
      " 'WIN_20180926_16_49_22_Pro_Thumbs_Down_new;Thumbs_Down_new;3\\n'\n",
      " 'WIN_20180926_17_24_18_Pro_Left_Swipe_new;Left_Swipe_new;0\\n'\n",
      " 'WIN_20180907_16_13_12_Pro_Stop Gesture_new;Stop Gesture_new;2\\n'\n",
      " 'WIN_20180926_17_01_07_Pro_Thumbs_Up_new;Thumbs_Up_new;4\\n'\n",
      " 'WIN_20180907_15_53_18_Pro_Right Swipe_new;Right Swipe_new;1\\n'\n",
      " 'WIN_20180925_18_05_30_Pro_Thumbs_Up_new;Thumbs_Up_new;4\\n'\n",
      " 'WIN_20180907_16_12_40_Pro_Thumbs Down_new;Thumbs Down_new;3\\n'\n",
      " 'WIN_20180926_17_22_08_Pro_Thumbs_Down_new;Thumbs_Down_new;3\\n'\n",
      " 'WIN_20180907_16_25_10_Pro_Thumbs Up_new;Thumbs Up_new;4\\n'\n",
      " 'WIN_20180907_16_36_14_Pro_Thumbs Up_new;Thumbs Up_new;4\\n'\n",
      " 'WIN_20180926_17_40_53_Pro_Thumbs_Up_new;Thumbs_Up_new;4\\n'\n",
      " 'WIN_20180926_17_56_27_Pro_Right_Swipe_new;Right_Swipe_new;1\\n'\n",
      " 'WIN_20180926_17_30_12_Pro_Thumbs_Up_new;Thumbs_Up_new;4\\n'\n",
      " 'WIN_20180926_17_48_06_Pro_Thumbs_Down_new;Thumbs_Down_new;3\\n'\n",
      " 'WIN_20180925_18_21_50_Pro_Thumbs_Down_new;Thumbs_Down_new;3\\n'\n",
      " 'WIN_20180907_16_31_45_Pro_Thumbs Up_new;Thumbs Up_new;4\\n'\n",
      " 'WIN_20180926_17_35_54_Pro_Thumbs_Up_new;Thumbs_Up_new;4\\n'\n",
      " 'WIN_20180925_17_22_42_Pro_Thumbs_Up_new;Thumbs_Up_new;4\\n'\n",
      " 'WIN_20180926_17_24_54_Pro_Left_Swipe_new;Left_Swipe_new;0\\n'\n",
      " 'WIN_20180907_15_49_59_Pro_Thumbs Up_new;Thumbs Up_new;4\\n'\n",
      " 'WIN_20180907_16_27_42_Pro_Right Swipe_new;Right Swipe_new;1\\n'\n",
      " 'WIN_20180926_17_17_07_Pro_Thumbs_Down_new;Thumbs_Down_new;3\\n'\n",
      " 'WIN_20180907_16_58_34_Pro_Right Swipe_new;Right Swipe_new;1\\n'\n",
      " 'WIN_20180926_17_35_12_Pro_Thumbs_Down_new;Thumbs_Down_new;3\\n'\n",
      " 'WIN_20180907_16_33_26_Pro_Thumbs Up_new;Thumbs Up_new;4\\n'\n",
      " 'WIN_20180907_15_57_30_Pro_Stop Gesture_new;Stop Gesture_new;2\\n'\n",
      " 'WIN_20180926_17_42_11_Pro_Thumbs_Down_new;Thumbs_Down_new;3\\n'\n",
      " 'WIN_20180926_17_32_19_Pro_Thumbs_Up_new;Thumbs_Up_new;4\\n'\n",
      " 'WIN_20180926_17_28_21_Pro_Right_Swipe_new;Right_Swipe_new;1\\n'\n",
      " 'WIN_20180925_17_37_14_Pro_Stop_new;Stop_new;2\\n'\n",
      " 'WIN_20180925_17_52_20_Pro_Left_Swipe_new;Left_Swipe_new;0\\n'\n",
      " 'WIN_20180925_17_29_52_Pro_Left_Swipe_new;Left_Swipe_new;0\\n'\n",
      " 'WIN_20180926_16_49_59_Pro_Thumbs_Up_new;Thumbs_Up_new;4\\n'\n",
      " 'WIN_20180925_17_30_26_Pro_Thumbs_Up_new;Thumbs_Up_new;4\\n'\n",
      " 'WIN_20180926_16_48_35_Pro_Thumbs_Down_new;Thumbs_Down_new;3\\n'\n",
      " 'WIN_20180907_16_26_02_Pro_Thumbs Up_new;Thumbs Up_new;4\\n'\n",
      " 'WIN_20180925_18_23_57_Pro_Thumbs_Down_new;Thumbs_Down_new;3\\n'\n",
      " 'WIN_20180907_15_46_25_Pro_Stop Gesture_new;Stop Gesture_new;2\\n'\n",
      " 'WIN_20180925_17_26_51_Pro_Left_Swipe_new;Left_Swipe_new;0\\n'\n",
      " 'WIN_20180907_16_05_08_Pro_Stop Gesture_new;Stop Gesture_new;2\\n'\n",
      " 'WIN_20180907_16_41_09_Pro_Thumbs Up_new;Thumbs Up_new;4\\n'\n",
      " 'WIN_20180926_17_21_16_Pro_Left_Swipe_new;Left_Swipe_new;0\\n'\n",
      " 'WIN_20180926_17_43_44_Pro_Thumbs_Down_new;Thumbs_Down_new;3\\n'\n",
      " 'WIN_20180925_17_50_04_Pro_Thumbs_Up_new;Thumbs_Up_new;4\\n'\n",
      " 'WIN_20180926_17_41_15_Pro_Thumbs_Up_new;Thumbs_Up_new;4\\n'\n",
      " 'WIN_20180907_15_44_36_Pro_Right Swipe_new;Right Swipe_new;1\\n'\n",
      " 'WIN_20180926_17_21_49_Pro_Stop_new;Stop_new;2\\n'\n",
      " 'WIN_20180926_17_50_56_Pro_Stop_new;Stop_new;2\\n'\n",
      " 'WIN_20180925_18_07_47_Pro_Left_Swipe_new;Left_Swipe_new;0\\n'\n",
      " 'WIN_20180907_15_59_44_Pro_Right Swipe_new;Right Swipe_new;1\\n'\n",
      " 'WIN_20180926_17_19_35_Pro_Right_Swipe_new;Right_Swipe_new;1\\n'\n",
      " 'WIN_20180926_16_56_51_Pro_Thumbs_Up_new;Thumbs_Up_new;4\\n'\n",
      " 'WIN_20180926_17_05_38_Pro_Thumbs_Up_new;Thumbs_Up_new;4\\n'\n",
      " 'WIN_20180926_17_40_11_Pro_Stop_new;Stop_new;2\\n'\n",
      " 'WIN_20180907_15_58_17_Pro_Left Swipe_new_Left Swipe_new;Left Swipe_new_Left Swipe_new;0\\n'\n",
      " 'WIN_20180907_16_33_59_Pro_Right Swipe_new;Right Swipe_new;1\\n'\n",
      " 'WIN_20180926_17_43_17_Pro_Right_Swipe_new;Right_Swipe_new;1\\n'\n",
      " 'WIN_20180907_15_44_55_Pro_Stop Gesture_new;Stop Gesture_new;2\\n'\n",
      " 'WIN_20180926_16_55_41_Pro_Left_Swipe_new;Left_Swipe_new;0\\n'\n",
      " 'WIN_20180907_15_54_06_Pro_Stop Gesture_new;Stop Gesture_new;2\\n'\n",
      " 'WIN_20180925_17_56_11_Pro_Thumbs_Up_new;Thumbs_Up_new;4\\n'\n",
      " 'WIN_20180907_16_07_43_Pro_Right Swipe_new;Right Swipe_new;1\\n'\n",
      " 'WIN_20180925_17_38_16_Pro_Stop_new;Stop_new;2\\n'\n",
      " 'WIN_20180925_17_53_03_Pro_Stop_new;Stop_new;2\\n'\n",
      " 'WIN_20180925_17_26_58_Pro_Right_Swipe_new;Right_Swipe_new;1\\n'\n",
      " 'WIN_20180926_16_55_03_Pro_Stop_new;Stop_new;2\\n'\n",
      " 'WIN_20180926_16_59_27_Pro_Thumbs_Up_new;Thumbs_Up_new;4\\n'\n",
      " 'WIN_20180926_17_34_37_Pro_Stop_new;Stop_new;2\\n'\n",
      " 'WIN_20180926_16_40_01_Pro_Thumbs_Up_new;Thumbs_Up_new;4\\n'\n",
      " 'WIN_20180926_16_42_15_Pro_Thumbs_Up_new;Thumbs_Up_new;4\\n'\n",
      " 'WIN_20180926_17_05_54_Pro_Right_Swipe_new;Right_Swipe_new;1\\n'\n",
      " 'WIN_20180925_17_35_57_Pro_Stop_new;Stop_new;2\\n'\n",
      " 'WIN_20180926_17_21_20_Pro_Right_Swipe_new;Right_Swipe_new;1\\n'\n",
      " 'WIN_20180926_17_43_30_Pro_Left_Swipe_new;Left_Swipe_new;0\\n'\n",
      " 'WIN_20180925_17_26_34_Pro_Right_Swipe_new;Right_Swipe_new;1\\n'\n",
      " 'WIN_20180926_17_02_27_Pro_Thumbs_Up_new;Thumbs_Up_new;4\\n'\n",
      " 'WIN_20180926_17_40_52_Pro_Right_Swipe_new;Right_Swipe_new;1\\n'\n",
      " 'WIN_20180907_16_53_36_Pro_Thumbs Down_new;Thumbs Down_new;3\\n'\n",
      " 'WIN_20180907_16_02_07_Pro_Stop Gesture_new;Stop Gesture_new;2\\n'\n",
      " 'WIN_20180907_15_49_02_Pro_Left Swipe_new_Left Swipe_new;Left Swipe_new_Left Swipe_new;0\\n'\n",
      " 'WIN_20180907_15_56_38_Pro_Right Swipe_new;Right Swipe_new;1\\n'\n",
      " 'WIN_20180926_17_22_54_Pro_Stop_new;Stop_new;2\\n'\n",
      " 'WIN_20180907_16_12_09_Pro_Stop Gesture_new;Stop Gesture_new;2\\n'\n",
      " 'WIN_20180925_18_13_15_Pro_Thumbs_Down_new;Thumbs_Down_new;3\\n'\n",
      " 'WIN_20180926_17_22_49_Pro_Right_Swipe_new;Right_Swipe_new;1\\n'\n",
      " 'WIN_20180926_16_49_52_Pro_Left_Swipe_new;Left_Swipe_new;0\\n'\n",
      " 'WIN_20180926_17_39_43_Pro_Stop_new;Stop_new;2\\n'\n",
      " 'WIN_20180926_17_06_24_Pro_Left_Swipe_new;Left_Swipe_new;0\\n'\n",
      " 'WIN_20180926_18_05_21_Pro_Thumbs_Down_new;Thumbs_Down_new;3\\n'\n",
      " 'WIN_20180926_17_22_16_Pro_Thumbs_Up_new;Thumbs_Up_new;4\\n'\n",
      " 'WIN_20180926_17_19_50_Pro_Thumbs_Down_new;Thumbs_Down_new;3\\n'\n",
      " 'WIN_20180925_17_37_21_Pro_Right_Swipe_new;Right_Swipe_new;1\\n'\n",
      " 'WIN_20180925_17_43_32_Pro_Left_Swipe_new;Left_Swipe_new;0\\n'\n",
      " 'WIN_20180907_16_03_54_Pro_Right Swipe_new;Right Swipe_new;1\\n'\n",
      " 'WIN_20180926_17_10_34_Pro_Right_Swipe_new;Right_Swipe_new;1\\n'\n",
      " 'WIN_20180926_17_06_07_Pro_Thumbs_Up_new;Thumbs_Up_new;4\\n'\n",
      " 'WIN_20180926_17_20_41_Pro_Stop_new;Stop_new;2\\n'\n",
      " 'WIN_20180926_16_47_06_Pro_Thumbs_Up_new;Thumbs_Up_new;4\\n'\n",
      " 'WIN_20180925_17_56_00_Pro_Right_Swipe_new;Right_Swipe_new;1\\n'\n",
      " 'WIN_20180926_16_50_27_Pro_Thumbs_Up_new;Thumbs_Up_new;4\\n'\n",
      " 'WIN_20180926_16_40_38_Pro_Right_Swipe_new;Right_Swipe_new;1\\n'\n",
      " 'WIN_20180925_18_12_58_Pro_Right_Swipe_new;Right_Swipe_new;1\\n'\n",
      " 'WIN_20180907_16_12_53_Pro_Left Swipe_new_Left Swipe_new;Left Swipe_new_Left Swipe_new;0\\n'\n",
      " 'WIN_20180926_16_41_01_Pro_Thumbs_Up_new;Thumbs_Up_new;4\\n']\n"
     ]
    }
   ],
   "source": [
    "print(train_doc)"
   ]
  },
  {
   "cell_type": "code",
   "execution_count": 7,
   "metadata": {
    "colab": {
     "base_uri": "https://localhost:8080/"
    },
    "executionInfo": {
     "elapsed": 16,
     "status": "ok",
     "timestamp": 1624199132280,
     "user": {
      "displayName": "Akshay Jain",
      "photoUrl": "",
      "userId": "14428643283181133106"
     },
     "user_tz": -330
    },
    "id": "BVfALZNqkAEc",
    "outputId": "c9f6e00c-b80a-4573-9177-87ff643e03f9"
   },
   "outputs": [
    {
     "name": "stdout",
     "output_type": "stream",
     "text": [
      "WIN_20180926_17_24_58_Pro_Right_Swipe_new\n"
     ]
    }
   ],
   "source": [
    "image_name = np.random.permutation(train_doc)[0].split(';')[0]\n",
    "print(image_name)\n",
    "sample_img = os.listdir('../Project_data/train'+'//'+image_name)\n",
    "# sample_image = os.listdir('D:/MS_in_ML_and_AI/Jupyter/Gesture Recognition/datasets/Project_data/train'+'/'+np.random.permutation(train_doc).split(';')[0])"
   ]
  },
  {
   "cell_type": "code",
   "execution_count": 8,
   "metadata": {
    "colab": {
     "base_uri": "https://localhost:8080/"
    },
    "executionInfo": {
     "elapsed": 8,
     "status": "ok",
     "timestamp": 1624199132280,
     "user": {
      "displayName": "Akshay Jain",
      "photoUrl": "",
      "userId": "14428643283181133106"
     },
     "user_tz": -330
    },
    "id": "tU77CpnfkAEc",
    "outputId": "a3ce3481-5bad-45d3-a04f-d688ab0faa24"
   },
   "outputs": [
    {
     "name": "stdout",
     "output_type": "stream",
     "text": [
      "['WIN_20180926_17_24_58_Pro_00063.png', 'WIN_20180926_17_24_58_Pro_00061.png', 'WIN_20180926_17_24_58_Pro_00049.png', 'WIN_20180926_17_24_58_Pro_00065.png', 'WIN_20180926_17_24_58_Pro_00059.png', 'WIN_20180926_17_24_58_Pro_00015.png', 'WIN_20180926_17_24_58_Pro_00029.png', 'WIN_20180926_17_24_58_Pro_00017.png', 'WIN_20180926_17_24_58_Pro_00007.png', 'WIN_20180926_17_24_58_Pro_00013.png', 'WIN_20180926_17_24_58_Pro_00011.png', 'WIN_20180926_17_24_58_Pro_00039.png', 'WIN_20180926_17_24_58_Pro_00009.png', 'WIN_20180926_17_24_58_Pro_00021.png', 'WIN_20180926_17_24_58_Pro_00035.png', 'WIN_20180926_17_24_58_Pro_00023.png', 'WIN_20180926_17_24_58_Pro_00037.png', 'WIN_20180926_17_24_58_Pro_00033.png', 'WIN_20180926_17_24_58_Pro_00027.png', 'WIN_20180926_17_24_58_Pro_00019.png', 'WIN_20180926_17_24_58_Pro_00031.png', 'WIN_20180926_17_24_58_Pro_00025.png', 'WIN_20180926_17_24_58_Pro_00057.png', 'WIN_20180926_17_24_58_Pro_00043.png', 'WIN_20180926_17_24_58_Pro_00055.png', 'WIN_20180926_17_24_58_Pro_00041.png', 'WIN_20180926_17_24_58_Pro_00045.png', 'WIN_20180926_17_24_58_Pro_00051.png', 'WIN_20180926_17_24_58_Pro_00047.png', 'WIN_20180926_17_24_58_Pro_00053.png']\n"
     ]
    }
   ],
   "source": [
    "print(sample_img)"
   ]
  },
  {
   "cell_type": "code",
   "execution_count": 9,
   "metadata": {
    "id": "zevucMKykAEd"
   },
   "outputs": [],
   "source": [
    "sample = imread('../Project_data/train'+'/'+image_name+'/'+sample_img[0])"
   ]
  },
  {
   "cell_type": "code",
   "execution_count": 10,
   "metadata": {
    "colab": {
     "base_uri": "https://localhost:8080/",
     "height": 285
    },
    "executionInfo": {
     "elapsed": 1585,
     "status": "ok",
     "timestamp": 1624199133859,
     "user": {
      "displayName": "Akshay Jain",
      "photoUrl": "",
      "userId": "14428643283181133106"
     },
     "user_tz": -330
    },
    "id": "UiAOelVgkAEd",
    "outputId": "b416a8c2-d053-43a6-a54e-41c887c370de"
   },
   "outputs": [
    {
     "data": {
      "text/plain": [
       "<matplotlib.image.AxesImage at 0x163c51fd0>"
      ]
     },
     "execution_count": 10,
     "metadata": {},
     "output_type": "execute_result"
    },
    {
     "data": {
      "image/png": "[encoded data removed]",
      "text/plain": [
       "<Figure size 432x288 with 1 Axes>"
      ]
     },
     "metadata": {
      "needs_background": "light"
     },
     "output_type": "display_data"
    }
   ],
   "source": [
    "plt.imshow(sample)"
   ]
  },
  {
   "cell_type": "code",
   "execution_count": 11,
   "metadata": {
    "colab": {
     "base_uri": "https://localhost:8080/"
    },
    "executionInfo": {
     "elapsed": 18,
     "status": "ok",
     "timestamp": 1624199133860,
     "user": {
      "displayName": "Akshay Jain",
      "photoUrl": "",
      "userId": "14428643283181133106"
     },
     "user_tz": -330
    },
    "id": "3SKInx6KkAEd",
    "outputId": "c959f632-9d11-44f9-a1fe-e4ca11d5319b"
   },
   "outputs": [
    {
     "data": {
      "text/plain": [
       "(120, 160, 3)"
      ]
     },
     "execution_count": 11,
     "metadata": {},
     "output_type": "execute_result"
    }
   ],
   "source": [
    "sample.shape"
   ]
  },
  {
   "cell_type": "code",
   "execution_count": 12,
   "metadata": {
    "id": "pz2pe_8UkAEd"
   },
   "outputs": [],
   "source": [
    "def generator(source_path, folder_list, batch_size):\n",
    "    print( 'Source path = ', source_path, '; batch size =', batch_size)\n",
    "    print('len of folder_list = ', len(folder_list))\n",
    "    img_idx = range(0,30,3)#create a list of image numbers you want to use for a particular video\n",
    "    while True:\n",
    "        t = np.random.permutation(folder_list)\n",
    "        num_batches = len(folder_list)//batch_size# calculate the number of batches\n",
    "        for batch in range(num_batches): # we iterate over the number of batches\n",
    "            batch_data = np.zeros((batch_size,len(img_idx),50,50,3)) # x is the number of images you use for each video, (y,z) is the final size of the input images and 3 is the number of channels RGB\n",
    "            batch_labels = np.zeros((batch_size,5)) # batch_labels is the one hot representation of the output\n",
    "            for folder in range(batch_size): # iterate over the batch_size\n",
    "                imgs = os.listdir(source_path+'/'+ t[folder + (batch*batch_size)].split(';')[0]) # read all the images in the folder\n",
    "                for idx,item in enumerate(img_idx): #  Iterate iver the frames/images of a folder to read them in\n",
    "                    image = imread(source_path+'/'+ t[folder + (batch*batch_size)].strip().split(';')[0]+'/'+imgs[item]).astype(np.float32)\n",
    "                    #crop the images and resize them. Note that the images are of 2 different shape \n",
    "                    #and the conv3D will throw error if the inputs in a batch have different shapes\n",
    "                    image = resize(image,(50,50))\n",
    "                    image = image/255\n",
    "                    batch_data[folder,idx,:,:,0] = image[:,:,0]#normalise and feed in the image\n",
    "                    batch_data[folder,idx,:,:,1] = image[:,:,1]#normalise and feed in the image\n",
    "                    batch_data[folder,idx,:,:,2] = image[:,:,2]#normalise and feed in the image\n",
    "                    \n",
    "                batch_labels[folder, int(t[folder + (batch*batch_size)].strip().split(';')[2])] = 1\n",
    "            yield batch_data, batch_labels #you yield the batch_data and the batch_labels, remember what does yield do\n",
    "        left_out_img = len(folder_list)%batch_size\n",
    "        batch+=1\n",
    "        if left_out_img!=0:\n",
    "            batch_data = np.zeros((left_out_img,len(img_idx),50,50,3)) # x is the number of images you use for each video, (y,z) is the final size of the input images and 3 is the number of channels RGB\n",
    "            batch_labels = np.zeros((left_out_img,5)) # batch_labels is the one hot representation of the output\n",
    "            for folder in range(left_out_img): # iterate over the batch_size\n",
    "                imgs = os.listdir(source_path+'/'+ t[folder + (batch*batch_size)].split(';')[0]) # read all the images in the folder\n",
    "                for idx,item in enumerate(img_idx): #  Iterate iver the frames/images of a folder to read them in\n",
    "                    image = imread(source_path+'/'+ t[folder + (batch*batch_size)].strip().split(';')[0]+'/'+imgs[item]).astype(np.float32)\n",
    "                    #crop the images and resize them. Note that the images are of 2 different shape \n",
    "                    #and the conv3D will throw error if the inputs in a batch have different shapes\n",
    "                    image = resize(image,(50,50))\n",
    "                    image = image/255\n",
    "                    batch_data[folder,idx,:,:,0] = image[:,:,0]#normalise and feed in the image\n",
    "                    batch_data[folder,idx,:,:,1] = image[:,:,1]#normalise and feed in the image\n",
    "                    batch_data[folder,idx,:,:,2] = image[:,:,2]#normalise and feed in the image\n",
    "                    \n",
    "                batch_labels[folder, int(t[folder + (batch*batch_size)].strip().split(';')[2])] = 1\n",
    "            yield batch_data, batch_labels #you yield the batch_data and the batch_labels, remember what does yield do\n",
    "        \n",
    "        # write the code for the remaining data points which are left after full batches"
   ]
  },
  {
   "cell_type": "markdown",
   "metadata": {
    "id": "hb9ZrKPbkAEe"
   },
   "source": [
    "Note here that a video is represented above in the generator as (number of images, height, width, number of channels). Take this into consideration while creating the model architecture."
   ]
  },
  {
   "cell_type": "code",
   "execution_count": 13,
   "metadata": {
    "colab": {
     "base_uri": "https://localhost:8080/"
    },
    "executionInfo": {
     "elapsed": 16,
     "status": "ok",
     "timestamp": 1624199133860,
     "user": {
      "displayName": "Akshay Jain",
      "photoUrl": "",
      "userId": "14428643283181133106"
     },
     "user_tz": -330
    },
    "id": "NTt9SrM5kAEf",
    "outputId": "5cc62991-c0c1-43c4-c762-c5f2291e270f"
   },
   "outputs": [
    {
     "name": "stdout",
     "output_type": "stream",
     "text": [
      "# training sequences = 663\n",
      "# validation sequences = 100\n",
      "# epochs = 20\n"
     ]
    }
   ],
   "source": [
    "curr_dt_time = datetime.datetime.now()\n",
    "# train_path = '/notebooks/storage/Final_data/Collated_training/train'\n",
    "train_path='../Project_data/train'\n",
    "val_path='../Project_data/val'\n",
    "# val_path = '/notebooks/storage/Final_data/Collated_training/val'\n",
    "num_train_sequences = len(train_doc)\n",
    "print('# training sequences =', num_train_sequences)\n",
    "num_val_sequences = len(val_doc)\n",
    "print('# validation sequences =', num_val_sequences)\n",
    "num_epochs = 20 #50(1st) choose the number of epochs\n",
    "print ('# epochs =', num_epochs)"
   ]
  },
  {
   "cell_type": "markdown",
   "metadata": {
    "id": "JPFZWPUQkAEf"
   },
   "source": [
    "## Model\n",
    "Here you make the model using different functionalities that Keras provides. Remember to use `Conv3D` and `MaxPooling3D` and not `Conv2D` and `Maxpooling2D` for a 3D convolution model. You would want to use `TimeDistributed` while building a Conv2D + RNN model. Also remember that the last layer is the softmax. Design the network in such a way that the model is able to give good accuracy on the least number of parameters so that it can fit in the memory of the webcam."
   ]
  },
  {
   "cell_type": "code",
   "execution_count": 14,
   "metadata": {
    "id": "e9ApW73HkAEg"
   },
   "outputs": [],
   "source": [
    "from keras.models import Sequential, Model\n",
    "from keras.layers import Dense, GRU, Flatten, TimeDistributed, Flatten, BatchNormalization, Activation, Dropout,LSTM\n",
    "from keras.layers import Conv3D, MaxPooling3D, Conv2D,MaxPooling2D\n",
    "from keras.callbacks import ModelCheckpoint, ReduceLROnPlateau\n",
    "from keras import optimizers\n",
    "from keras.regularizers import l2\n",
    "\n",
    "#write your model here\n",
    "num_classes = 5\n",
    "model = Sequential()\n",
    "\n",
    "model.add(TimeDistributed(Conv2D(16,(2,2), padding='same'),\n",
    "                         input_shape=(10,50,50,3)))\n",
    "model.add(Activation('relu'))\n",
    "model.add(BatchNormalization())\n",
    "model.add(TimeDistributed(Conv2D(16,(2,2))))\n",
    "model.add(Activation('relu'))\n",
    "model.add(BatchNormalization())\n",
    "model.add(TimeDistributed(MaxPooling2D(pool_size=(2,2))))\n",
    "model.add(Dropout(0.2))\n",
    "\n",
    "model.add(TimeDistributed(Conv2D(32,(2,2), padding='same')))\n",
    "model.add(Activation('relu'))\n",
    "model.add(BatchNormalization())\n",
    "model.add(TimeDistributed(Conv2D(32,(2,2), padding='same')))\n",
    "model.add(Activation('relu'))\n",
    "model.add(BatchNormalization())\n",
    "model.add(TimeDistributed(MaxPooling2D(pool_size=(2,2))))\n",
    "model.add(Dropout(0.2))\n",
    "          \n",
    "model.add(TimeDistributed(Flatten()))\n",
    "model.add(LSTM(256, return_sequences=False, dropout=0.5))\n",
    "model.add(Dense(64,kernel_regularizer=l2(0.01)))\n",
    "model.add(Activation('relu'))\n",
    "model.add(Dropout(0.25))\n",
    "model.add(Dense(num_classes))\n",
    "model.add(Activation('softmax'))"
   ]
  },
  {
   "cell_type": "code",
   "execution_count": 15,
   "metadata": {},
   "outputs": [
    {
     "name": "stdout",
     "output_type": "stream",
     "text": [
      "1.18.5\n"
     ]
    }
   ],
   "source": [
    "import numpy as np\n",
    "\n",
    "print(np.version.version)"
   ]
  },
  {
   "cell_type": "markdown",
   "metadata": {
    "id": "dtyifoE5kAEg"
   },
   "source": [
    "Now that you have written the model, the next step is to `compile` the model. When you print the `summary` of the model, you'll see the total number of parameters you have to train."
   ]
  },
  {
   "cell_type": "code",
   "execution_count": 16,
   "metadata": {
    "colab": {
     "base_uri": "https://localhost:8080/"
    },
    "executionInfo": {
     "elapsed": 15,
     "status": "ok",
     "timestamp": 1624199133861,
     "user": {
      "displayName": "Akshay Jain",
      "photoUrl": "",
      "userId": "14428643283181133106"
     },
     "user_tz": -330
    },
    "id": "KV9h11XzkAEg",
    "outputId": "13768988-c611-4929-f462-710435884ade",
    "scrolled": true
   },
   "outputs": [
    {
     "name": "stdout",
     "output_type": "stream",
     "text": [
      "Model: \"sequential\"\n",
      "_________________________________________________________________\n",
      "Layer (type)                 Output Shape              Param #   \n",
      "=================================================================\n",
      "time_distributed (TimeDistri (None, 10, 50, 50, 16)    208       \n",
      "_________________________________________________________________\n",
      "activation (Activation)      (None, 10, 50, 50, 16)    0         \n",
      "_________________________________________________________________\n",
      "batch_normalization (BatchNo (None, 10, 50, 50, 16)    64        \n",
      "_________________________________________________________________\n",
      "time_distributed_1 (TimeDist (None, 10, 49, 49, 16)    1040      \n",
      "_________________________________________________________________\n",
      "activation_1 (Activation)    (None, 10, 49, 49, 16)    0         \n",
      "_________________________________________________________________\n",
      "batch_normalization_1 (Batch (None, 10, 49, 49, 16)    64        \n",
      "_________________________________________________________________\n",
      "time_distributed_2 (TimeDist (None, 10, 24, 24, 16)    0         \n",
      "_________________________________________________________________\n",
      "dropout (Dropout)            (None, 10, 24, 24, 16)    0         \n",
      "_________________________________________________________________\n",
      "time_distributed_3 (TimeDist (None, 10, 24, 24, 32)    2080      \n",
      "_________________________________________________________________\n",
      "activation_2 (Activation)    (None, 10, 24, 24, 32)    0         \n",
      "_________________________________________________________________\n",
      "batch_normalization_2 (Batch (None, 10, 24, 24, 32)    128       \n",
      "_________________________________________________________________\n",
      "time_distributed_4 (TimeDist (None, 10, 24, 24, 32)    4128      \n",
      "_________________________________________________________________\n",
      "activation_3 (Activation)    (None, 10, 24, 24, 32)    0         \n",
      "_________________________________________________________________\n",
      "batch_normalization_3 (Batch (None, 10, 24, 24, 32)    128       \n",
      "_________________________________________________________________\n",
      "time_distributed_5 (TimeDist (None, 10, 12, 12, 32)    0         \n",
      "_________________________________________________________________\n",
      "dropout_1 (Dropout)          (None, 10, 12, 12, 32)    0         \n",
      "_________________________________________________________________\n",
      "time_distributed_6 (TimeDist (None, 10, 4608)          0         \n",
      "_________________________________________________________________\n",
      "lstm (LSTM)                  (None, 256)               4981760   \n",
      "_________________________________________________________________\n",
      "dense (Dense)                (None, 64)                16448     \n",
      "_________________________________________________________________\n",
      "activation_4 (Activation)    (None, 64)                0         \n",
      "_________________________________________________________________\n",
      "dropout_2 (Dropout)          (None, 64)                0         \n",
      "_________________________________________________________________\n",
      "dense_1 (Dense)              (None, 5)                 325       \n",
      "_________________________________________________________________\n",
      "activation_5 (Activation)    (None, 5)                 0         \n",
      "=================================================================\n",
      "Total params: 5,006,373\n",
      "Trainable params: 5,006,181\n",
      "Non-trainable params: 192\n",
      "_________________________________________________________________\n",
      "None\n"
     ]
    }
   ],
   "source": [
    "optimiser = optimizers.SGD()#Adam(1st)write your optimizer\n",
    "model.compile(optimizer=optimiser, loss='categorical_crossentropy', metrics=['categorical_accuracy'])\n",
    "print (model.summary())"
   ]
  },
  {
   "cell_type": "markdown",
   "metadata": {
    "id": "D9Bx22aEkAEg"
   },
   "source": [
    "Let us create the `train_generator` and the `val_generator` which will be used in `.fit_generator`."
   ]
  },
  {
   "cell_type": "code",
   "execution_count": 17,
   "metadata": {
    "id": "wK0hV4WikAEg"
   },
   "outputs": [],
   "source": [
    "train_generator = generator(train_path, train_doc, batch_size)\n",
    "val_generator = generator(val_path, val_doc, batch_size)\n",
    "# print(val_generator))"
   ]
  },
  {
   "cell_type": "code",
   "execution_count": 18,
   "metadata": {
    "id": "TI-YajJBkAEg"
   },
   "outputs": [],
   "source": [
    "model_name = 'model_init' + '_' + str(curr_dt_time).replace(' ','').replace(':','_') + '/'\n",
    "    \n",
    "if not os.path.exists(model_name):\n",
    "    os.mkdir(model_name)\n",
    "        \n",
    "filepath = model_name + 'model-{epoch:05d}-{loss:.5f}-{categorical_accuracy:.5f}-{val_loss:.5f}-{val_categorical_accuracy:.5f}.h5'\n",
    "\n",
    "\n",
    "checkpoint = ModelCheckpoint(filepath, monitor='val_loss', verbose=1, save_best_only=False, save_weights_only=False, mode='auto', save_freq='epoch')\n",
    "\n",
    "LR = ReduceLROnPlateau(monitor='val_loss', factor=0.5, patience=2, cooldown=1,verbose=1)# write the REducelronplateau code here\n",
    "callbacks_list = [checkpoint, LR]"
   ]
  },
  {
   "cell_type": "markdown",
   "metadata": {
    "id": "JFyOGGtlkAEg"
   },
   "source": [
    "The `steps_per_epoch` and `validation_steps` are used by `fit_generator` to decide the number of next() calls it need to make."
   ]
  },
  {
   "cell_type": "code",
   "execution_count": 19,
   "metadata": {
    "id": "a3sKKp_WkAEg"
   },
   "outputs": [],
   "source": [
    "if (num_train_sequences%batch_size) == 0:\n",
    "    steps_per_epoch = int(num_train_sequences/batch_size)\n",
    "else:\n",
    "    steps_per_epoch = (num_train_sequences//batch_size) + 1\n",
    "\n",
    "if (num_val_sequences%batch_size) == 0:\n",
    "    validation_steps = int(num_val_sequences/batch_size)\n",
    "else:\n",
    "    validation_steps = (num_val_sequences//batch_size) + 1"
   ]
  },
  {
   "cell_type": "markdown",
   "metadata": {
    "id": "D9nipNdYkAEg"
   },
   "source": [
    "Let us now fit the model. This will start training the model and with the help of the checkpoints, you'll be able to save the model at the end of each epoch."
   ]
  },
  {
   "cell_type": "code",
   "execution_count": 20,
   "metadata": {
    "colab": {
     "base_uri": "https://localhost:8080/"
    },
    "executionInfo": {
     "elapsed": 4830,
     "status": "ok",
     "timestamp": 1624204798713,
     "user": {
      "displayName": "Akshay Jain",
      "photoUrl": "",
      "userId": "14428643283181133106"
     },
     "user_tz": -330
    },
    "id": "dMOq3ccpkAEh",
    "outputId": "03b3e92c-e6db-4cda-e446-ffb0be7a48a4"
   },
   "outputs": [
    {
     "name": "stdout",
     "output_type": "stream",
     "text": [
      "Source path =  ../Project_data/train ; batch size = 10\n",
      "len of folder_list =  663\n"
     ]
    },
    {
     "name": "stderr",
     "output_type": "stream",
     "text": [
      "/Users/jain/miniforge3/envs/tf_m1/lib/python3.8/site-packages/tensorflow/python/keras/engine/training.py:1844: UserWarning: `Model.fit_generator` is deprecated and will be removed in a future version. Please use `Model.fit`, which supports generators.\n",
      "  warnings.warn('`Model.fit_generator` is deprecated and '\n"
     ]
    },
    {
     "name": "stdout",
     "output_type": "stream",
     "text": [
      "Epoch 1/20\n",
      "67/67 [==============================] - ETA: 0s - loss: 2.7280 - categorical_accuracy: 0.1936Source path =  ../Project_data/val ; batch size = 10\n",
      "len of folder_list =  100\n",
      "67/67 [==============================] - 40s 589ms/step - loss: 2.7271 - categorical_accuracy: 0.1942 - val_loss: 2.7857 - val_categorical_accuracy: 0.2300\n",
      "\n",
      "Epoch 00001: saving model to model_init_2021-06-2117_32_54.760003/model-00001-2.66711-0.23228-2.78569-0.23000.h5\n",
      "Epoch 2/20\n",
      "67/67 [==============================] - 38s 577ms/step - loss: 2.4877 - categorical_accuracy: 0.3726 - val_loss: 2.7813 - val_categorical_accuracy: 0.2100\n",
      "\n",
      "Epoch 00002: saving model to model_init_2021-06-2117_32_54.760003/model-00002-2.47567-0.37707-2.78130-0.21000.h5\n",
      "Epoch 3/20\n",
      "67/67 [==============================] - 37s 550ms/step - loss: 2.3820 - categorical_accuracy: 0.4285 - val_loss: 2.9979 - val_categorical_accuracy: 0.2000\n",
      "\n",
      "Epoch 00003: saving model to model_init_2021-06-2117_32_54.760003/model-00003-2.35180-0.43741-2.99788-0.20000.h5\n",
      "Epoch 4/20\n",
      "67/67 [==============================] - 36s 542ms/step - loss: 2.2266 - categorical_accuracy: 0.4836 - val_loss: 3.5442 - val_categorical_accuracy: 0.1200\n",
      "\n",
      "Epoch 00004: saving model to model_init_2021-06-2117_32_54.760003/model-00004-2.19808-0.51131-3.54419-0.12000.h5\n",
      "\n",
      "Epoch 00004: ReduceLROnPlateau reducing learning rate to 0.004999999888241291.\n",
      "Epoch 5/20\n",
      "67/67 [==============================] - 37s 551ms/step - loss: 2.0979 - categorical_accuracy: 0.5617 - val_loss: 3.6720 - val_categorical_accuracy: 0.2400\n",
      "\n",
      "Epoch 00005: saving model to model_init_2021-06-2117_32_54.760003/model-00005-2.09460-0.56712-3.67201-0.24000.h5\n",
      "Epoch 6/20\n",
      "67/67 [==============================] - 35s 528ms/step - loss: 2.0044 - categorical_accuracy: 0.6177 - val_loss: 3.3738 - val_categorical_accuracy: 0.2600\n",
      "\n",
      "Epoch 00006: saving model to model_init_2021-06-2117_32_54.760003/model-00006-2.05050-0.58824-3.37381-0.26000.h5\n",
      "\n",
      "Epoch 00006: ReduceLROnPlateau reducing learning rate to 0.0024999999441206455.\n",
      "Epoch 7/20\n",
      "67/67 [==============================] - 36s 540ms/step - loss: 1.9740 - categorical_accuracy: 0.6265 - val_loss: 3.4984 - val_categorical_accuracy: 0.2100\n",
      "\n",
      "Epoch 00007: saving model to model_init_2021-06-2117_32_54.760003/model-00007-1.99219-0.62745-3.49840-0.21000.h5\n",
      "Epoch 8/20\n",
      "67/67 [==============================] - 36s 534ms/step - loss: 1.9438 - categorical_accuracy: 0.6581 - val_loss: 3.7277 - val_categorical_accuracy: 0.2800\n",
      "\n",
      "Epoch 00008: saving model to model_init_2021-06-2117_32_54.760003/model-00008-1.92760-0.66968-3.72770-0.28000.h5\n",
      "\n",
      "Epoch 00008: ReduceLROnPlateau reducing learning rate to 0.0012499999720603228.\n",
      "Epoch 9/20\n",
      "67/67 [==============================] - 36s 536ms/step - loss: 1.9279 - categorical_accuracy: 0.6351 - val_loss: 3.0099 - val_categorical_accuracy: 0.2800\n",
      "\n",
      "Epoch 00009: saving model to model_init_2021-06-2117_32_54.760003/model-00009-1.92764-0.65008-3.00994-0.28000.h5\n",
      "Epoch 10/20\n",
      "67/67 [==============================] - 36s 536ms/step - loss: 1.8726 - categorical_accuracy: 0.6531 - val_loss: 3.5326 - val_categorical_accuracy: 0.2400\n",
      "\n",
      "Epoch 00010: saving model to model_init_2021-06-2117_32_54.760003/model-00010-1.85704-0.67421-3.53259-0.24000.h5\n",
      "\n",
      "Epoch 00010: ReduceLROnPlateau reducing learning rate to 0.0006249999860301614.\n",
      "Epoch 11/20\n",
      "67/67 [==============================] - 36s 540ms/step - loss: 1.9064 - categorical_accuracy: 0.6360 - val_loss: 3.1051 - val_categorical_accuracy: 0.3500\n",
      "\n",
      "Epoch 00011: saving model to model_init_2021-06-2117_32_54.760003/model-00011-1.88323-0.65762-3.10510-0.35000.h5\n",
      "Epoch 12/20\n",
      "67/67 [==============================] - 36s 543ms/step - loss: 1.8544 - categorical_accuracy: 0.6951 - val_loss: 3.4488 - val_categorical_accuracy: 0.2400\n",
      "\n",
      "Epoch 00012: saving model to model_init_2021-06-2117_32_54.760003/model-00012-1.85388-0.69834-3.44879-0.24000.h5\n",
      "\n",
      "Epoch 00012: ReduceLROnPlateau reducing learning rate to 0.0003124999930150807.\n",
      "Epoch 13/20\n",
      "67/67 [==============================] - 36s 540ms/step - loss: 1.8609 - categorical_accuracy: 0.6662 - val_loss: 3.2699 - val_categorical_accuracy: 0.3200\n",
      "\n",
      "Epoch 00013: saving model to model_init_2021-06-2117_32_54.760003/model-00013-1.84351-0.68477-3.26994-0.32000.h5\n",
      "Epoch 14/20\n",
      "67/67 [==============================] - 37s 551ms/step - loss: 1.8903 - categorical_accuracy: 0.6716 - val_loss: 3.1674 - val_categorical_accuracy: 0.2800\n",
      "\n",
      "Epoch 00014: saving model to model_init_2021-06-2117_32_54.760003/model-00014-1.84378-0.69683-3.16736-0.28000.h5\n",
      "\n",
      "Epoch 00014: ReduceLROnPlateau reducing learning rate to 0.00015624999650754035.\n",
      "Epoch 15/20\n",
      "67/67 [==============================] - 35s 522ms/step - loss: 1.8637 - categorical_accuracy: 0.6834 - val_loss: 3.1070 - val_categorical_accuracy: 0.3800\n",
      "\n",
      "Epoch 00015: saving model to model_init_2021-06-2117_32_54.760003/model-00015-1.86304-0.68477-3.10696-0.38000.h5\n",
      "Epoch 16/20\n",
      "67/67 [==============================] - 35s 533ms/step - loss: 1.8351 - categorical_accuracy: 0.7041 - val_loss: 2.8358 - val_categorical_accuracy: 0.4100\n",
      "\n",
      "Epoch 00016: saving model to model_init_2021-06-2117_32_54.760003/model-00016-1.85894-0.68175-2.83578-0.41000.h5\n",
      "\n",
      "Epoch 00016: ReduceLROnPlateau reducing learning rate to 7.812499825377017e-05.\n",
      "Epoch 17/20\n",
      "67/67 [==============================] - 37s 556ms/step - loss: 1.8508 - categorical_accuracy: 0.6949 - val_loss: 3.0934 - val_categorical_accuracy: 0.2400\n",
      "\n",
      "Epoch 00017: saving model to model_init_2021-06-2117_32_54.760003/model-00017-1.83677-0.69231-3.09345-0.24000.h5\n",
      "Epoch 18/20\n",
      "67/67 [==============================] - 35s 532ms/step - loss: 1.8264 - categorical_accuracy: 0.6898 - val_loss: 2.9944 - val_categorical_accuracy: 0.3500\n",
      "\n",
      "Epoch 00018: saving model to model_init_2021-06-2117_32_54.760003/model-00018-1.85193-0.68477-2.99437-0.35000.h5\n",
      "\n",
      "Epoch 00018: ReduceLROnPlateau reducing learning rate to 3.9062499126885086e-05.\n",
      "Epoch 19/20\n",
      "67/67 [==============================] - 36s 541ms/step - loss: 1.8375 - categorical_accuracy: 0.6844 - val_loss: 3.5251 - val_categorical_accuracy: 0.3600\n",
      "\n",
      "Epoch 00019: saving model to model_init_2021-06-2117_32_54.760003/model-00019-1.83282-0.68175-3.52507-0.36000.h5\n",
      "Epoch 20/20\n",
      "67/67 [==============================] - 36s 536ms/step - loss: 1.8231 - categorical_accuracy: 0.6907 - val_loss: 3.5241 - val_categorical_accuracy: 0.3300\n",
      "\n",
      "Epoch 00020: saving model to model_init_2021-06-2117_32_54.760003/model-00020-1.82244-0.70136-3.52409-0.33000.h5\n",
      "\n",
      "Epoch 00020: ReduceLROnPlateau reducing learning rate to 1.9531249563442543e-05.\n"
     ]
    }
   ],
   "source": [
    "# batch_size=10\n",
    "# num_epochs=20\n",
    "history = model.fit_generator(train_generator, steps_per_epoch=steps_per_epoch, epochs=num_epochs, verbose=1, \n",
    "                    callbacks=callbacks_list, validation_data=val_generator, \n",
    "                    validation_steps=validation_steps, class_weight=None, workers=1, initial_epoch=0)"
   ]
  },
  {
   "cell_type": "code",
   "execution_count": 21,
   "metadata": {
    "id": "nypsmPu2kAEh"
   },
   "outputs": [
    {
     "data": {
      "image/png": "[encoded data removed]",
      "text/plain": [
       "<Figure size 576x576 with 2 Axes>"
      ]
     },
     "metadata": {
      "needs_background": "light"
     },
     "output_type": "display_data"
    }
   ],
   "source": [
    "acc = history.history['categorical_accuracy']\n",
    "val_acc = history.history['val_categorical_accuracy']\n",
    "\n",
    "loss = history.history['loss']\n",
    "val_loss = history.history['val_loss']\n",
    "\n",
    "epochs_range = range(num_epochs)\n",
    "\n",
    "plt.figure(figsize=(8, 8))\n",
    "plt.subplot(1, 2, 1)\n",
    "plt.plot(epochs_range, acc, label='Training Accuracy')\n",
    "plt.plot(epochs_range, val_acc, label='Validation Accuracy')\n",
    "plt.legend(loc='lower right')\n",
    "plt.title('Training and Validation Accuracy')\n",
    "\n",
    "plt.subplot(1, 2, 2)\n",
    "plt.plot(epochs_range, loss, label='Training Loss')\n",
    "plt.plot(epochs_range, val_loss, label='Validation Loss')\n",
    "plt.legend(loc='upper right')\n",
    "plt.title('Training and Validation Loss')\n",
    "plt.show()"
   ]
  }
 ],
 "metadata": {
  "accelerator": "GPU",
  "colab": {
   "collapsed_sections": [],
   "name": "Primary_Neural_Nets_Project_Starter_Code.ipynb",
   "provenance": []
  },
  "kernelspec": {
   "display_name": "Python 3",
   "language": "python",
   "name": "python3"
  },
  "language_info": {
   "codemirror_mode": {
    "name": "ipython",
    "version": 3
   },
   "file_extension": ".py",
   "mimetype": "text/x-python",
   "name": "python",
   "nbconvert_exporter": "python",
   "pygments_lexer": "ipython3",
   "version": "3.8.10"
  }
 },
 "nbformat": 4,
 "nbformat_minor": 1
}